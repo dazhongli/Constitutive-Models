{
 "cells": [
  {
   "cell_type": "code",
   "execution_count": 1,
   "id": "6bedded3-1689-4cfa-bb60-6598004cdab5",
   "metadata": {},
   "outputs": [],
   "source": [
    "import src.utilities as utl"
   ]
  },
  {
   "cell_type": "code",
   "execution_count": 4,
   "id": "b36d4742-afe5-4b4e-b937-28ab9e196d01",
   "metadata": {},
   "outputs": [
    {
     "data": {
      "text/plain": [
       "{'_physical_prop': {'gammaUnsat': 16,\n",
       "  'gammaSat': 16,\n",
       "  'eInit': 2.0,\n",
       "  'K0Determination': 'Automatic',\n",
       "  'Rinter': 0.75},\n",
       " '_oedometer_prop': {'nuUR': 0.2, 'eInit': 2.0, 'OCR': 1.0, 'POP': 0.0},\n",
       " '_strength_param': {'cRef': 0.01, 'psi': 0.0, 'phi': 25},\n",
       " '_permeability': {'PermHorizontalPrimary': 0.0003456,\n",
       "  'PermVertical': 1.94e-07},\n",
       " 'Linear_Elastic': {'gammaUnsat': 16,\n",
       "  'gammaSat': 16,\n",
       "  'eInit': 2.0,\n",
       "  'K0Determination': 'Manual',\n",
       "  'Rinter': 0.75,\n",
       "  'SoilModel': 'Linear Elastic',\n",
       "  'Identification': 'Unset',\n",
       "  'Eref': 20000,\n",
       "  'nu': 0.2},\n",
       " 'Mohr_Coulomb': {'gammaUnsat': 16,\n",
       "  'gammaSat': 16,\n",
       "  'eInit': 2.0,\n",
       "  'K0Determination': 'Automatic',\n",
       "  'Rinter': 0.75,\n",
       "  'SoilModel': 2,\n",
       "  'Identification': 'Unset',\n",
       "  'Eref': 20000,\n",
       "  'nu': 0.25,\n",
       "  'phi': 32,\n",
       "  'cRef': 0.01},\n",
       " 'Cam_Clay': {'gammaUnsat': 16,\n",
       "  'gammaSat': 16,\n",
       "  'eInit': 2.0,\n",
       "  'K0Determination': 'Automatic',\n",
       "  'Rinter': 0.75,\n",
       "  'PermHorizontalPrimary': 0.0003456,\n",
       "  'PermVertical': 1.94e-07,\n",
       "  'SoilModel': 'Modified Cam-clay',\n",
       "  'Colour': 15245783,\n",
       "  'DrainageType': 'Undrained A',\n",
       "  'lambda': 0.521,\n",
       "  'kappa': 0.0651,\n",
       "  'nuUR': 0.25,\n",
       "  'M': 0.984,\n",
       "  'OCR': 1.0,\n",
       "  'POP': 0,\n",
       "  'CInter': 0.1,\n",
       "  'PhiInter': 25},\n",
       " 'Soft_Soil': {'gammaUnsat': 16,\n",
       "  'gammaSat': 16,\n",
       "  'eInit': 2.0,\n",
       "  'K0Determination': 'Automatic',\n",
       "  'Rinter': 0.75,\n",
       "  'PermHorizontalPrimary': 0.0003456,\n",
       "  'PermVertical': 1.94e-07,\n",
       "  'SoilModel': 'Soft Soil',\n",
       "  'Identification': 'Unset',\n",
       "  'Colour': 15245783,\n",
       "  'DrainageType': 'Undrained A',\n",
       "  'lambdaModified': 0.174,\n",
       "  'kappaModified': 0.0271,\n",
       "  'nuUR': 0.25,\n",
       "  'cRef': 0.01,\n",
       "  'phi': 25,\n",
       "  'psi': 0.0,\n",
       "  'TensionCutOff': True,\n",
       "  'InterfaceStrengthDetermination': 'Manual',\n",
       "  'OCR': 1.0,\n",
       "  'POP': 0},\n",
       " 'Soft_Soil_Creep': {'gammaUnsat': 16,\n",
       "  'gammaSat': 16,\n",
       "  'eInit': 2.0,\n",
       "  'K0Determination': 'Automatic',\n",
       "  'Rinter': 0.75,\n",
       "  'PermHorizontalPrimary': 0.0003456,\n",
       "  'PermVertical': 1.94e-07,\n",
       "  'SoilModel': 'Soft Soil Creep',\n",
       "  'Identification': 'Unset',\n",
       "  'Colour': 15245783,\n",
       "  'DrainageType': 'Undrained A',\n",
       "  'lambdaModified': 0.174,\n",
       "  'kappaModified': 0.0217,\n",
       "  'muModified': 0.0076,\n",
       "  'nuUR': 0.25,\n",
       "  'cRef': 0.01,\n",
       "  'phi': 25,\n",
       "  'psi': 0.0,\n",
       "  'TensionCutOff': True,\n",
       "  'InterfaceStrengthDetermination': 'Manual',\n",
       "  'OCR': 1.0,\n",
       "  'POP': 0}}"
      ]
     },
     "execution_count": 4,
     "metadata": {},
     "output_type": "execute_result"
    }
   ],
   "source": [
    "utl.read_input_file('material.yaml')"
   ]
  },
  {
   "cell_type": "code",
   "execution_count": null,
   "id": "8a8befd6-58da-4a4e-a12f-6835ede8782d",
   "metadata": {},
   "outputs": [],
   "source": []
  }
 ],
 "metadata": {
  "kernelspec": {
   "display_name": "Python 3 (ipykernel)",
   "language": "python",
   "name": "python3"
  },
  "language_info": {
   "codemirror_mode": {
    "name": "ipython",
    "version": 3
   },
   "file_extension": ".py",
   "mimetype": "text/x-python",
   "name": "python",
   "nbconvert_exporter": "python",
   "pygments_lexer": "ipython3",
   "version": "3.11.7"
  }
 },
 "nbformat": 4,
 "nbformat_minor": 5
}
