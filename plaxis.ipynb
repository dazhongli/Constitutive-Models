{
 "cells": [
  {
   "cell_type": "code",
   "execution_count": 2,
   "metadata": {},
   "outputs": [],
   "source": [
    "import baseprocess as bp\n",
    "import yaml\n",
    "import src.utilities as utl\n",
    "from plxscripting.easy import new_server\n",
    "from src.geoplot import GEOPlot\n",
    "import  plotly.graph_objects as go\n",
    "from model import *"
   ]
  },
  {
   "cell_type": "code",
   "execution_count": 3,
   "metadata": {},
   "outputs": [],
   "source": [
    "# !pip install plxscripting\n",
    "# !pip install setuptools\n",
    "#!pip install PyPDF2"
   ]
  },
  {
   "cell_type": "code",
   "execution_count": 4,
   "metadata": {},
   "outputs": [
    {
     "name": "stderr",
     "output_type": "stream",
     "text": [
      "2024-05-07 16:22:12,551 [MainThread  ] [INFO ]  Plaxis connection established...\n"
     ]
    }
   ],
   "source": [
    "water_level=1.0\n",
    "width = 0.67\n",
    "material_name = 'Soft_Soil'\n",
    "thk = 4\n",
    "seabed = -3\n",
    "applied_load=20\n",
    "plaxis_path = r'C:\\Program Files\\Bentley\\Geotechnical\\PLAXIS 2D CONNECT Edition V22'\n",
    "# password = \"Nv~?e5x5i32u#X/A\"\n",
    "password = \"%ufyhg5TSV1tN!3m\"\n",
    "proj = bp.BaseProject(openplaxis=False,plaxis_path=plaxis_path,password=password)\n",
    "proj.new_2Dproject(xmin_ip=0,xmax_ip=1,ymin_ip=-8,ymax_ip=0,project_title=\"Consolidation Analysis\",usr_comment='')"
   ]
  },
  {
   "cell_type": "markdown",
   "metadata": {},
   "source": [
    "## Build Materils below"
   ]
  },
  {
   "cell_type": "code",
   "execution_count": 5,
   "metadata": {},
   "outputs": [
    {
     "data": {
      "text/plain": [
       "'PlateMat_1 renamed to Dummy_plate'"
      ]
     },
     "execution_count": 5,
     "metadata": {},
     "output_type": "execute_result"
    }
   ],
   "source": [
    "g_i = proj._g_i\n",
    "proj.delete_all_materials()\n",
    "\n",
    "x = utl.read_input_file('material.yaml')\n",
    "\n",
    "for material_name in x:\n",
    "    # material_name = 'Mohr_Coulomb'\n",
    "    m_sand= x[material_name]\n",
    "    material = g_i.soilmat()\n",
    "    mat = material.setproperties(*flatten_dict(m_sand))\n",
    "    material.Identification = material_name\n",
    "m_plate = g_i.platemat()\n",
    "m_plate.setproperties('MaterialType','Elastic',\n",
    "                      'EA1',1e8,\n",
    "                      'EI',1e8,\n",
    "                      'StructNu',0.45,\n",
    "                     'Identification', \"dummy_plate\")\n"
   ]
  },
  {
   "cell_type": "markdown",
   "metadata": {},
   "source": [
    "# Build Model below"
   ]
  },
  {
   "cell_type": "code",
   "execution_count": 6,
   "metadata": {},
   "outputs": [
    {
     "name": "stderr",
     "output_type": "stream",
     "text": [
      "2024-05-07 16:22:32,932 [MainThread  ] [INFO ]  No BH information in Plaxis Model\n"
     ]
    },
    {
     "data": {
      "text/plain": [
       "'OK'"
      ]
     },
     "execution_count": 6,
     "metadata": {},
     "output_type": "execute_result"
    }
   ],
   "source": [
    "g_i = proj._g_i\n",
    "g_i.gotosoil()\n",
    "proj.delete_all_bh()\n",
    "bh = g_i.borehole(0)\n",
    "bh.Head=water_level\n",
    "width = width\n",
    "seabed = seabed\n",
    "thk = thk\n",
    "applied_load = applied_load\n",
    "g_i.SoilContour.initializerectangular(0, seabed-thk, width, seabed)\n",
    "g_i.soillayer(-seabed+thk)\n",
    "g_i.Soillayers[-1].Zones[0].Top=seabed\n",
    "g_i.Soils[0].Material =getattr(g_i,material_name) \n",
    "g_i.gotostructures()\n",
    "line_load = g_i.lineload((0, seabed), (width, seabed))\n",
    "line_load[-1].q_start = applied_load\n",
    "plate = g_i.plate(line_load[-2])\n",
    "plate.Material=g_i.Dummy_plate\n",
    "x = g_i.drain((0,seabed),(0,seabed-thk))\n",
    "g_i.gotomesh()\n",
    "g_i.mesh(0.05)\n",
    "\n",
    "# set flow condition\n",
    "g_i.gotoflow()\n",
    "g_i.Drains[0].h[g_i.InitialPhase] =1\n",
    "g_i.activate([g_i.GWFlowBaseBC_3,g_i.GWFlowBaseBC_2],g_i.InitialPhase)\n",
    "g_i.GWFlowBaseBC_3.Behaviour[g_i.InitialPhase] = 'closed'\n",
    "g_i.GWFlowBaseBC_2.Behaviour[g_i.InitialPhase] = 'closed'\n",
    "water_level = g_i.waterlevel((-3,1),(10,1))\n",
    "g_i.setglobalwaterlevel(water_level, g_i.InitialPhase)"
   ]
  },
  {
   "cell_type": "code",
   "execution_count": null,
   "metadata": {},
   "outputs": [],
   "source": [
    "output_port = g_i.view(g_i.Phase[-1])\n",
    "_, g_o = new_server('localhost', output_port, password=password) \n",
    "g_i.calculate()\n",
    "filename = f'{material_name}-thk={thk}-width={width}'\n",
    "# post_process(proj,file"
   ]
  },
  {
   "cell_type": "code",
   "execution_count": null,
   "metadata": {},
   "outputs": [],
   "source": [
    "\n",
    "output_port = g_i.selectmeshpoints() \n",
    "_, g_o = new_server('localhost', output_port, password=password)\n",
    "g_o.addcurvepoint('node', g_o.Soil_1_1, (width/2, seabed))"
   ]
  },
  {
   "cell_type": "code",
   "execution_count": 5,
   "metadata": {},
   "outputs": [
    {
     "name": "stderr",
     "output_type": "stream",
     "text": [
      "2024-04-30 23:40:15,557 [MainThread  ] [INFO ]  Launching Plaxis, it may take a minute...\n",
      "2024-04-30 23:40:32,484 [MainThread  ] [INFO ]  No BH information in Plaxis Model\n"
     ]
    },
    {
     "ename": "NameError",
     "evalue": "name 'g_i' is not defined",
     "output_type": "error",
     "traceback": [
      "\u001b[1;31m---------------------------------------------------------------------------\u001b[0m",
      "\u001b[1;31mNameError\u001b[0m                                 Traceback (most recent call last)",
      "Cell \u001b[1;32mIn[5], line 20\u001b[0m\n\u001b[0;32m     13\u001b[0m build_model(proj,water_level\u001b[38;5;241m=\u001b[39mwater_level,\n\u001b[0;32m     14\u001b[0m             width\u001b[38;5;241m=\u001b[39mwidth,\n\u001b[0;32m     15\u001b[0m             seabed\u001b[38;5;241m=\u001b[39mseabed,\n\u001b[0;32m     16\u001b[0m             thk\u001b[38;5;241m=\u001b[39mthk,\n\u001b[0;32m     17\u001b[0m             applied_load\u001b[38;5;241m=\u001b[39mapplied_load,\n\u001b[0;32m     18\u001b[0m             material_name\u001b[38;5;241m=\u001b[39mmaterial_name)\n\u001b[0;32m     19\u001b[0m build_stages(proj)\n\u001b[1;32m---> 20\u001b[0m output_port \u001b[38;5;241m=\u001b[39m \u001b[43mg_i\u001b[49m\u001b[38;5;241m.\u001b[39mview(g_i\u001b[38;5;241m.\u001b[39mPhase[\u001b[38;5;241m-\u001b[39m\u001b[38;5;241m1\u001b[39m])\n\u001b[0;32m     21\u001b[0m _, g_o \u001b[38;5;241m=\u001b[39m new_server(\u001b[38;5;124m'\u001b[39m\u001b[38;5;124mlocalhost\u001b[39m\u001b[38;5;124m'\u001b[39m, output_port, password\u001b[38;5;241m=\u001b[39mpassword) \n\u001b[0;32m     22\u001b[0m g_i\u001b[38;5;241m.\u001b[39mcalculate()\n",
      "\u001b[1;31mNameError\u001b[0m: name 'g_i' is not defined"
     ]
    }
   ],
   "source": [
    "\n",
    "\n",
    "build_materials(proj)\n",
    "build_model(proj,water_level=water_level,\n",
    "            width=width,\n",
    "            seabed=seabed,\n",
    "            thk=thk,\n",
    "            applied_load=applied_load,\n",
    "            material_name=material_name)\n",
    "build_stages(proj)\n",
    "output_port = g_i.view(g_i.Phase[-1])\n",
    "_, g_o = new_server('localhost', output_port, password=password) \n",
    "g_i.calculate()\n",
    "filename = f'{material_name}-thk={thk}-width={width}'\n",
    "post_process(proj,filename)"
   ]
  },
  {
   "cell_type": "code",
   "execution_count": 4,
   "metadata": {},
   "outputs": [],
   "source": [
    "def post_process(proj,filename):\n",
    "    df = pd.DataFrame()\n",
    "    ix = 0\n",
    "    for phase in g_o.Phases:\n",
    "        if phase.Name.value =='InitialPhase':\n",
    "            pass\n",
    "        else:\n",
    "            for step in phase.Steps:\n",
    "                val = g_o.getcurveresults(g_o.Curvepoints.Nodes[0],step, g_o.ResultTypes.Soil.Utot)\n",
    "                df.loc[ix,'y'] = val\n",
    "                df.loc[ix,'time'] = step.Reached.Time.value\n",
    "                ix+=1\n",
    "    fig = GEOPlot.get_figure()\n",
    "    fig.add_trace(go.Scatter(x=df.time,y=df.y*1000,line=dict(color='black')))\n",
    "    fig.update_layout(width=800,height=400)\n",
    "    fig.update_yaxes(range=[200,0],title='Consolidation Settlement (mm)')\n",
    "    fig.update_layout(xaxis_type='log')\n",
    "    df.to_json(filename+'.json')\n",
    "    fig.write_html(filename+'.html')\n",
    "def build_materials(proj,filename='./material.yaml'):\n",
    "\n",
    "def build_model(proj,\n",
    "                water_level, \n",
    "                width, \n",
    "                seabed,\n",
    "                thk,\n",
    "                applied_load,material_name):\n",
    "    g_i = proj._g_i\n",
    "    g_i.gotosoil()\n",
    "    proj.delete_all_bh()\n",
    "    bh = g_i.borehole(0)\n",
    "    bh.Head=water_level\n",
    "    width = width\n",
    "    seabed = seabed\n",
    "    thk = thk\n",
    "    applied_load = applied_load\n",
    "    g_i.SoilContour.initializerectangular(0, seabed-thk, width, seabed)\n",
    "    g_i.soillayer(-seabed+thk)\n",
    "    g_i.Soillayers[-1].Zones[0].Top=seabed\n",
    "    g_i.Soils[0].Material =getattr(g_i,material_name) \n",
    "    g_i.gotostructures()\n",
    "    line_load = g_i.lineload((0, seabed), (width, seabed))\n",
    "    line_load[-1].q_start = applied_load\n",
    "    x = g_i.drain((0,seabed),(0,seabed-thk))\n",
    "    g_i.gotomesh()\n",
    "    g_i.mesh(0.05)\n",
    "\n",
    "    # set flow condition\n",
    "    g_i.gotoflow()\n",
    "    g_i.Drains[0].h[g_i.InitialPhase] =1\n",
    "    g_i.activate([g_i.GWFlowBaseBC_3,g_i.GWFlowBaseBC_2],g_i.InitialPhase)\n",
    "    g_i.GWFlowBaseBC_3.Behaviour[g_i.InitialPhase] = 'closed'\n",
    "    g_i.GWFlowBaseBC_2.Behaviour[g_i.InitialPhase] = 'closed'\n",
    "    water_level = g_i.waterlevel((-3,1),(10,1))\n",
    "    g_i.setglobalwaterlevel(water_level, g_i.InitialPhase)\n",
    "\n",
    "def build_stages(proj, step_size = 2, n_step=10):\n",
    "    # Construct Stages\n",
    "    g_i = proj._g_i\n",
    "    g_i.gotostages()\n",
    "    n_stage = n_step\n",
    "    for i in range(1,n_stage):\n",
    "        this_phase = g_i.phase(g_i.Phases[-1])\n",
    "        this_phase.Identification = 'Consolidation'\n",
    "        this_phase.DeformCalcType = 'Consolidation'\n",
    "        this_phase.TimeInterval = step_size**i\n",
    "        this_phase.Identification = f'Consolidation at {2**i} days'\n",
    "        g_i.LineLoads[0].Active[this_phase] = True\n",
    "        g_i.activate(g_i.Drains, this_phase)\n",
    "        g_i.activate(g_i.GroundwaterFlowBCs, this_phase)\n",
    "        \n",
    "    output_port = g_i.selectmeshpoints() \n",
    "    _, g_o = new_server('localhost', output_port, password=password)\n",
    "    g_o.addcurvepoint('node', g_o.Soil_1_1, (width/2, seabed))\n",
    "    g_o.update()\n",
    "    g_i.calculate()"
   ]
  },
  {
   "cell_type": "code",
   "execution_count": 30,
   "metadata": {},
   "outputs": [
    {
     "data": {
      "text/plain": [
       "0.0382788201363464"
      ]
     },
     "execution_count": 30,
     "metadata": {},
     "output_type": "execute_result"
    }
   ],
   "source": [
    "g_i.view(g_i.Phases[-1])\n",
    "g_o.getcurveresults(g_o.Curvepoints.Nodes.value[0],g_o.Phases[1],g_o.ResultTypes.Soil.Utot)"
   ]
  },
  {
   "cell_type": "code",
   "execution_count": 31,
   "metadata": {},
   "outputs": [],
   "source": [
    "import pandas as pd\n",
    "df = pd.DataFrame()\n",
    "ix = 0\n",
    "for phase in g_o.Phases:\n",
    "    if phase.Name.value =='InitialPhase':\n",
    "        pass\n",
    "    else:\n",
    "        for step in phase.Steps:\n",
    "            val = g_o.getcurveresults(g_o.Curvepoints.Nodes[0],step, g_o.ResultTypes.Soil.Utot)\n",
    "            df.loc[ix,'y'] = val\n",
    "            df.loc[ix,'time'] = step.Reached.Time.value\n",
    "            ix+=1"
   ]
  },
  {
   "cell_type": "code",
   "execution_count": 32,
   "metadata": {},
   "outputs": [],
   "source": [
    "fig = GEOPlot.get_figure()\n",
    "fig.add_trace(go.Scatter(x=df.time,y=df.y*1000,line=dict(color='black')))\n",
    "fig.update_layout(width=800,height=400)\n",
    "fig.update_yaxes(range=[200,0],title='Consolidation Settlement (mm)')\n",
    "filename=f'Trial_{applied_load}-{width}-{thk}'\n",
    "fig.update_layout(xaxis_type='log')\n",
    "df.to_json(filename+'.json')\n",
    "fig.write_html(filename+'.html')"
   ]
  },
  {
   "cell_type": "code",
   "execution_count": 33,
   "metadata": {},
   "outputs": [
    {
     "data": {
      "application/vnd.plotly.v1+json": {
       "config": {
        "plotlyServerURL": "https://plot.ly"
       },
       "data": [
        {
         "line": {
          "color": "black"
         },
         "type": "scatter",
         "x": [
          0.0254063842104485,
          0.0762191526313456,
          0.17784468947314,
          0.381095763156728,
          0.787597910523905,
          1.60060220525826,
          2,
          2.01150652218247,
          2.03451956654741,
          2.0805456552773,
          2.17259783273707,
          2.35670218765661,
          2.7249108974957,
          3.46132831717387,
          4.93416315653021,
          6,
          6.00550577265673,
          6.0165173179702,
          6.03854040859712,
          6.08258658985098,
          6.17067895235868,
          6.3468636773741,
          6.69923312740494,
          7.40397202746661,
          8.81344982758995,
          11.6324054278366,
          14,
          14.0050534678202,
          14.0151604034605,
          14.0353742747411,
          14.0758020173024,
          14.1566575024249,
          14.3183684726699,
          14.64179041316,
          15.2886342941401,
          16.5823220561004,
          19.1696975800209,
          24.344448627862,
          29.519199675703,
          30,
          30.0050123812642,
          30.0150371437927,
          30.0350866688496,
          30.0751857189635,
          30.1553838191912,
          30.3157800196467,
          30.6365724205577,
          31.2781572223797,
          32.5613268260236,
          35.1276660333115,
          40.2603444478872,
          50.5257012770386,
          62,
          62.0064,
          62.0192,
          62.0448,
          62.096,
          62.1984,
          62.4032,
          62.8128,
          63.632,
          65.2704,
          68.5472,
          75.1008,
          88.208,
          114.4224,
          126,
          126.0128,
          126.0384,
          126.0896,
          126.192,
          126.3968,
          126.8064,
          127.6256,
          129.264,
          132.5408,
          139.0944,
          152.2016,
          178.416,
          230.8448,
          254,
          254.0256,
          254.0768,
          254.1792,
          254.384,
          254.7936,
          255.6128,
          257.2512,
          260.528,
          267.0816,
          280.1888,
          306.4032,
          358.832,
          463.6896,
          510,
          510.0512,
          510.1536,
          510.3584,
          510.768,
          511.5872,
          513.2256,
          516.5024,
          523.056,
          536.1632,
          562.3776,
          614.8064,
          719.664,
          929.3792,
          1022
         ],
         "y": [
          0.15300073667641298,
          0.527632133104516,
          1.5349317815279102,
          4.18677606297449,
          11.038155212019099,
          29.275297789350198,
          38.2788201363464,
          38.5066777059738,
          38.9473699591453,
          39.768665263174306,
          41.2692122504889,
          43.9025189060591,
          48.2307952368213,
          54.8356983093404,
          63.9679747579182,
          69.07146000254109,
          69.0980400593778,
          69.15055758843471,
          69.2549905884181,
          69.4613919851933,
          69.8640704123358,
          70.63086116483849,
          72.0271511120395,
          74.3721253100387,
          77.79877008328779,
          81.768032370272,
          83.8568290416522,
          83.8614145388795,
          83.8703575314444,
          83.8880082369446,
          83.92292742860761,
          83.991368230132,
          84.1229615114577,
          84.3669217852188,
          84.78959484580601,
          85.4404148059475,
          86.2637189518272,
          87.0282029880349,
          87.3808346565438,
          87.41066187367801,
          87.4109679117306,
          87.41157349958779,
          87.4127711439119,
          87.41514033130849,
          87.4197866734332,
          87.4287403080702,
          87.44541553982981,
          87.474545322925,
          87.51999592269489,
          87.5791786548214,
          87.6391000722868,
          87.67604781435071,
          87.68663427486301,
          87.68664019752819,
          87.6866521713829,
          87.68667591514489,
          87.6867225940101,
          87.6868134995315,
          87.6869873059889,
          87.68730375841879,
          87.6878241869042,
          87.6885404491015,
          87.6892786440069,
          87.6897474589791,
          87.68980271748079,
          87.6894790464583,
          87.6893131889161,
          87.6893130008099,
          87.6893126053295,
          87.68931176576531,
          87.68931005646401,
          87.68930672323411,
          87.689300609278,
          87.68929050940109,
          87.6892765226761,
          87.6892618960121,
          87.68925157697579,
          87.6892469020263,
          87.6892450088172,
          87.6892432201618,
          87.68924252958391,
          87.68924252850111,
          87.68924252623741,
          87.6892425218411,
          87.68924251368911,
          87.6892424995112,
          87.68924247738171,
          87.6892424486143,
          87.6892424207217,
          87.6892424035173,
          87.6892423997863,
          87.6892424061223,
          87.6892424220797,
          87.6892424542882,
          87.689242468486,
          87.689242468506,
          87.689242468547,
          87.68924246862609,
          87.68924246876759,
          87.68924246899421,
          87.68924246929751,
          87.68924246960361,
          87.6892424698101,
          87.6892424698929,
          87.6892424699101,
          87.6892424699098,
          87.6892424699052,
          87.6892424698957,
          87.6892424698916
         ]
        }
       ],
       "layout": {
        "height": 400,
        "images": [
         {
          "sizex": 0.2,
          "sizey": 0.3,
          "source": "https://gitlab.com/dazhong.li/utility/-/blob/master/image/arup_logo.png",
          "x": 0.1,
          "xanchor": "center",
          "xref": "paper",
          "y": 1,
          "yanchor": "bottom",
          "yref": "paper"
         }
        ],
        "margin": {
         "b": 20,
         "l": 20,
         "r": 20,
         "t": 20
        },
        "template": {
         "data": {
          "bar": [
           {
            "error_x": {
             "color": "rgb(36,36,36)"
            },
            "error_y": {
             "color": "rgb(36,36,36)"
            },
            "marker": {
             "line": {
              "color": "white",
              "width": 0.5
             },
             "pattern": {
              "fillmode": "overlay",
              "size": 10,
              "solidity": 0.2
             }
            },
            "type": "bar"
           }
          ],
          "barpolar": [
           {
            "marker": {
             "line": {
              "color": "white",
              "width": 0.5
             },
             "pattern": {
              "fillmode": "overlay",
              "size": 10,
              "solidity": 0.2
             }
            },
            "type": "barpolar"
           }
          ],
          "carpet": [
           {
            "aaxis": {
             "endlinecolor": "rgb(36,36,36)",
             "gridcolor": "white",
             "linecolor": "white",
             "minorgridcolor": "white",
             "startlinecolor": "rgb(36,36,36)"
            },
            "baxis": {
             "endlinecolor": "rgb(36,36,36)",
             "gridcolor": "white",
             "linecolor": "white",
             "minorgridcolor": "white",
             "startlinecolor": "rgb(36,36,36)"
            },
            "type": "carpet"
           }
          ],
          "choropleth": [
           {
            "colorbar": {
             "outlinewidth": 1,
             "tickcolor": "rgb(36,36,36)",
             "ticks": "outside"
            },
            "type": "choropleth"
           }
          ],
          "contour": [
           {
            "colorbar": {
             "outlinewidth": 1,
             "tickcolor": "rgb(36,36,36)",
             "ticks": "outside"
            },
            "colorscale": [
             [
              0,
              "#440154"
             ],
             [
              0.1111111111111111,
              "#482878"
             ],
             [
              0.2222222222222222,
              "#3e4989"
             ],
             [
              0.3333333333333333,
              "#31688e"
             ],
             [
              0.4444444444444444,
              "#26828e"
             ],
             [
              0.5555555555555556,
              "#1f9e89"
             ],
             [
              0.6666666666666666,
              "#35b779"
             ],
             [
              0.7777777777777778,
              "#6ece58"
             ],
             [
              0.8888888888888888,
              "#b5de2b"
             ],
             [
              1,
              "#fde725"
             ]
            ],
            "type": "contour"
           }
          ],
          "contourcarpet": [
           {
            "colorbar": {
             "outlinewidth": 1,
             "tickcolor": "rgb(36,36,36)",
             "ticks": "outside"
            },
            "type": "contourcarpet"
           }
          ],
          "heatmap": [
           {
            "colorbar": {
             "outlinewidth": 1,
             "tickcolor": "rgb(36,36,36)",
             "ticks": "outside"
            },
            "colorscale": [
             [
              0,
              "#440154"
             ],
             [
              0.1111111111111111,
              "#482878"
             ],
             [
              0.2222222222222222,
              "#3e4989"
             ],
             [
              0.3333333333333333,
              "#31688e"
             ],
             [
              0.4444444444444444,
              "#26828e"
             ],
             [
              0.5555555555555556,
              "#1f9e89"
             ],
             [
              0.6666666666666666,
              "#35b779"
             ],
             [
              0.7777777777777778,
              "#6ece58"
             ],
             [
              0.8888888888888888,
              "#b5de2b"
             ],
             [
              1,
              "#fde725"
             ]
            ],
            "type": "heatmap"
           }
          ],
          "heatmapgl": [
           {
            "colorbar": {
             "outlinewidth": 1,
             "tickcolor": "rgb(36,36,36)",
             "ticks": "outside"
            },
            "colorscale": [
             [
              0,
              "#440154"
             ],
             [
              0.1111111111111111,
              "#482878"
             ],
             [
              0.2222222222222222,
              "#3e4989"
             ],
             [
              0.3333333333333333,
              "#31688e"
             ],
             [
              0.4444444444444444,
              "#26828e"
             ],
             [
              0.5555555555555556,
              "#1f9e89"
             ],
             [
              0.6666666666666666,
              "#35b779"
             ],
             [
              0.7777777777777778,
              "#6ece58"
             ],
             [
              0.8888888888888888,
              "#b5de2b"
             ],
             [
              1,
              "#fde725"
             ]
            ],
            "type": "heatmapgl"
           }
          ],
          "histogram": [
           {
            "marker": {
             "line": {
              "color": "white",
              "width": 0.6
             }
            },
            "type": "histogram"
           }
          ],
          "histogram2d": [
           {
            "colorbar": {
             "outlinewidth": 1,
             "tickcolor": "rgb(36,36,36)",
             "ticks": "outside"
            },
            "colorscale": [
             [
              0,
              "#440154"
             ],
             [
              0.1111111111111111,
              "#482878"
             ],
             [
              0.2222222222222222,
              "#3e4989"
             ],
             [
              0.3333333333333333,
              "#31688e"
             ],
             [
              0.4444444444444444,
              "#26828e"
             ],
             [
              0.5555555555555556,
              "#1f9e89"
             ],
             [
              0.6666666666666666,
              "#35b779"
             ],
             [
              0.7777777777777778,
              "#6ece58"
             ],
             [
              0.8888888888888888,
              "#b5de2b"
             ],
             [
              1,
              "#fde725"
             ]
            ],
            "type": "histogram2d"
           }
          ],
          "histogram2dcontour": [
           {
            "colorbar": {
             "outlinewidth": 1,
             "tickcolor": "rgb(36,36,36)",
             "ticks": "outside"
            },
            "colorscale": [
             [
              0,
              "#440154"
             ],
             [
              0.1111111111111111,
              "#482878"
             ],
             [
              0.2222222222222222,
              "#3e4989"
             ],
             [
              0.3333333333333333,
              "#31688e"
             ],
             [
              0.4444444444444444,
              "#26828e"
             ],
             [
              0.5555555555555556,
              "#1f9e89"
             ],
             [
              0.6666666666666666,
              "#35b779"
             ],
             [
              0.7777777777777778,
              "#6ece58"
             ],
             [
              0.8888888888888888,
              "#b5de2b"
             ],
             [
              1,
              "#fde725"
             ]
            ],
            "type": "histogram2dcontour"
           }
          ],
          "mesh3d": [
           {
            "colorbar": {
             "outlinewidth": 1,
             "tickcolor": "rgb(36,36,36)",
             "ticks": "outside"
            },
            "type": "mesh3d"
           }
          ],
          "parcoords": [
           {
            "line": {
             "colorbar": {
              "outlinewidth": 1,
              "tickcolor": "rgb(36,36,36)",
              "ticks": "outside"
             }
            },
            "type": "parcoords"
           }
          ],
          "pie": [
           {
            "automargin": true,
            "type": "pie"
           }
          ],
          "scatter": [
           {
            "fillpattern": {
             "fillmode": "overlay",
             "size": 10,
             "solidity": 0.2
            },
            "type": "scatter"
           }
          ],
          "scatter3d": [
           {
            "line": {
             "colorbar": {
              "outlinewidth": 1,
              "tickcolor": "rgb(36,36,36)",
              "ticks": "outside"
             }
            },
            "marker": {
             "colorbar": {
              "outlinewidth": 1,
              "tickcolor": "rgb(36,36,36)",
              "ticks": "outside"
             }
            },
            "type": "scatter3d"
           }
          ],
          "scattercarpet": [
           {
            "marker": {
             "colorbar": {
              "outlinewidth": 1,
              "tickcolor": "rgb(36,36,36)",
              "ticks": "outside"
             }
            },
            "type": "scattercarpet"
           }
          ],
          "scattergeo": [
           {
            "marker": {
             "colorbar": {
              "outlinewidth": 1,
              "tickcolor": "rgb(36,36,36)",
              "ticks": "outside"
             }
            },
            "type": "scattergeo"
           }
          ],
          "scattergl": [
           {
            "marker": {
             "colorbar": {
              "outlinewidth": 1,
              "tickcolor": "rgb(36,36,36)",
              "ticks": "outside"
             }
            },
            "type": "scattergl"
           }
          ],
          "scattermapbox": [
           {
            "marker": {
             "colorbar": {
              "outlinewidth": 1,
              "tickcolor": "rgb(36,36,36)",
              "ticks": "outside"
             }
            },
            "type": "scattermapbox"
           }
          ],
          "scatterpolar": [
           {
            "marker": {
             "colorbar": {
              "outlinewidth": 1,
              "tickcolor": "rgb(36,36,36)",
              "ticks": "outside"
             }
            },
            "type": "scatterpolar"
           }
          ],
          "scatterpolargl": [
           {
            "marker": {
             "colorbar": {
              "outlinewidth": 1,
              "tickcolor": "rgb(36,36,36)",
              "ticks": "outside"
             }
            },
            "type": "scatterpolargl"
           }
          ],
          "scatterternary": [
           {
            "marker": {
             "colorbar": {
              "outlinewidth": 1,
              "tickcolor": "rgb(36,36,36)",
              "ticks": "outside"
             }
            },
            "type": "scatterternary"
           }
          ],
          "surface": [
           {
            "colorbar": {
             "outlinewidth": 1,
             "tickcolor": "rgb(36,36,36)",
             "ticks": "outside"
            },
            "colorscale": [
             [
              0,
              "#440154"
             ],
             [
              0.1111111111111111,
              "#482878"
             ],
             [
              0.2222222222222222,
              "#3e4989"
             ],
             [
              0.3333333333333333,
              "#31688e"
             ],
             [
              0.4444444444444444,
              "#26828e"
             ],
             [
              0.5555555555555556,
              "#1f9e89"
             ],
             [
              0.6666666666666666,
              "#35b779"
             ],
             [
              0.7777777777777778,
              "#6ece58"
             ],
             [
              0.8888888888888888,
              "#b5de2b"
             ],
             [
              1,
              "#fde725"
             ]
            ],
            "type": "surface"
           }
          ],
          "table": [
           {
            "cells": {
             "fill": {
              "color": "rgb(237,237,237)"
             },
             "line": {
              "color": "white"
             }
            },
            "header": {
             "fill": {
              "color": "rgb(217,217,217)"
             },
             "line": {
              "color": "white"
             }
            },
            "type": "table"
           }
          ]
         },
         "layout": {
          "annotationdefaults": {
           "arrowhead": 0,
           "arrowwidth": 1
          },
          "autotypenumbers": "strict",
          "coloraxis": {
           "colorbar": {
            "outlinewidth": 1,
            "tickcolor": "rgb(36,36,36)",
            "ticks": "outside"
           }
          },
          "colorscale": {
           "diverging": [
            [
             0,
             "rgb(103,0,31)"
            ],
            [
             0.1,
             "rgb(178,24,43)"
            ],
            [
             0.2,
             "rgb(214,96,77)"
            ],
            [
             0.3,
             "rgb(244,165,130)"
            ],
            [
             0.4,
             "rgb(253,219,199)"
            ],
            [
             0.5,
             "rgb(247,247,247)"
            ],
            [
             0.6,
             "rgb(209,229,240)"
            ],
            [
             0.7,
             "rgb(146,197,222)"
            ],
            [
             0.8,
             "rgb(67,147,195)"
            ],
            [
             0.9,
             "rgb(33,102,172)"
            ],
            [
             1,
             "rgb(5,48,97)"
            ]
           ],
           "sequential": [
            [
             0,
             "#440154"
            ],
            [
             0.1111111111111111,
             "#482878"
            ],
            [
             0.2222222222222222,
             "#3e4989"
            ],
            [
             0.3333333333333333,
             "#31688e"
            ],
            [
             0.4444444444444444,
             "#26828e"
            ],
            [
             0.5555555555555556,
             "#1f9e89"
            ],
            [
             0.6666666666666666,
             "#35b779"
            ],
            [
             0.7777777777777778,
             "#6ece58"
            ],
            [
             0.8888888888888888,
             "#b5de2b"
            ],
            [
             1,
             "#fde725"
            ]
           ],
           "sequentialminus": [
            [
             0,
             "#440154"
            ],
            [
             0.1111111111111111,
             "#482878"
            ],
            [
             0.2222222222222222,
             "#3e4989"
            ],
            [
             0.3333333333333333,
             "#31688e"
            ],
            [
             0.4444444444444444,
             "#26828e"
            ],
            [
             0.5555555555555556,
             "#1f9e89"
            ],
            [
             0.6666666666666666,
             "#35b779"
            ],
            [
             0.7777777777777778,
             "#6ece58"
            ],
            [
             0.8888888888888888,
             "#b5de2b"
            ],
            [
             1,
             "#fde725"
            ]
           ]
          },
          "colorway": [
           "#1F77B4",
           "#FF7F0E",
           "#2CA02C",
           "#D62728",
           "#9467BD",
           "#8C564B",
           "#E377C2",
           "#7F7F7F",
           "#BCBD22",
           "#17BECF"
          ],
          "font": {
           "color": "rgb(36,36,36)"
          },
          "geo": {
           "bgcolor": "white",
           "lakecolor": "white",
           "landcolor": "white",
           "showlakes": true,
           "showland": true,
           "subunitcolor": "white"
          },
          "hoverlabel": {
           "align": "left"
          },
          "hovermode": "closest",
          "mapbox": {
           "style": "light"
          },
          "paper_bgcolor": "white",
          "plot_bgcolor": "white",
          "polar": {
           "angularaxis": {
            "gridcolor": "rgb(232,232,232)",
            "linecolor": "rgb(36,36,36)",
            "showgrid": false,
            "showline": true,
            "ticks": "outside"
           },
           "bgcolor": "white",
           "radialaxis": {
            "gridcolor": "rgb(232,232,232)",
            "linecolor": "rgb(36,36,36)",
            "showgrid": false,
            "showline": true,
            "ticks": "outside"
           }
          },
          "scene": {
           "xaxis": {
            "backgroundcolor": "white",
            "gridcolor": "rgb(232,232,232)",
            "gridwidth": 2,
            "linecolor": "rgb(36,36,36)",
            "showbackground": true,
            "showgrid": false,
            "showline": true,
            "ticks": "outside",
            "zeroline": false,
            "zerolinecolor": "rgb(36,36,36)"
           },
           "yaxis": {
            "backgroundcolor": "white",
            "gridcolor": "rgb(232,232,232)",
            "gridwidth": 2,
            "linecolor": "rgb(36,36,36)",
            "showbackground": true,
            "showgrid": false,
            "showline": true,
            "ticks": "outside",
            "zeroline": false,
            "zerolinecolor": "rgb(36,36,36)"
           },
           "zaxis": {
            "backgroundcolor": "white",
            "gridcolor": "rgb(232,232,232)",
            "gridwidth": 2,
            "linecolor": "rgb(36,36,36)",
            "showbackground": true,
            "showgrid": false,
            "showline": true,
            "ticks": "outside",
            "zeroline": false,
            "zerolinecolor": "rgb(36,36,36)"
           }
          },
          "shapedefaults": {
           "fillcolor": "black",
           "line": {
            "width": 0
           },
           "opacity": 0.3
          },
          "ternary": {
           "aaxis": {
            "gridcolor": "rgb(232,232,232)",
            "linecolor": "rgb(36,36,36)",
            "showgrid": false,
            "showline": true,
            "ticks": "outside"
           },
           "baxis": {
            "gridcolor": "rgb(232,232,232)",
            "linecolor": "rgb(36,36,36)",
            "showgrid": false,
            "showline": true,
            "ticks": "outside"
           },
           "bgcolor": "white",
           "caxis": {
            "gridcolor": "rgb(232,232,232)",
            "linecolor": "rgb(36,36,36)",
            "showgrid": false,
            "showline": true,
            "ticks": "outside"
           }
          },
          "title": {
           "x": 0.05
          },
          "xaxis": {
           "automargin": true,
           "gridcolor": "rgb(232,232,232)",
           "linecolor": "rgb(36,36,36)",
           "showgrid": false,
           "showline": true,
           "ticks": "outside",
           "title": {
            "standoff": 15
           },
           "zeroline": false,
           "zerolinecolor": "rgb(36,36,36)"
          },
          "yaxis": {
           "automargin": true,
           "gridcolor": "rgb(232,232,232)",
           "linecolor": "rgb(36,36,36)",
           "showgrid": false,
           "showline": true,
           "ticks": "outside",
           "title": {
            "standoff": 15
           },
           "zeroline": false,
           "zerolinecolor": "rgb(36,36,36)"
          }
         }
        },
        "width": 800,
        "xaxis": {
         "anchor": "y",
         "autorange": true,
         "domain": [
          0,
          1
         ],
         "range": [
          -1.5950571385382561,
          3.0094508957986936
         ],
         "showgrid": true,
         "type": "log"
        },
        "yaxis": {
         "anchor": "x",
         "domain": [
          0,
          1
         ],
         "range": [
          200,
          0
         ],
         "showgrid": true,
         "title": {
          "text": "Consolidation Settlement (mm)"
         },
         "type": "linear"
        }
       }
      },
      "image/png": "[encoded data removed]"
     },
     "metadata": {},
     "output_type": "display_data"
    }
   ],
   "source": [
    "fig"
   ]
  },
  {
   "cell_type": "code",
   "execution_count": 9,
   "metadata": {},
   "outputs": [
    {
     "data": {
      "text/plain": [
       "'OK'"
      ]
     },
     "execution_count": 9,
     "metadata": {},
     "output_type": "execute_result"
    }
   ],
   "source": [
    "proj.s_i.close()"
   ]
  },
  {
   "cell_type": "code",
   "execution_count": 13,
   "metadata": {},
   "outputs": [],
   "source": [
    "from pathlib import Path\n",
    "from src.geoplot import GEOPlot\n",
    "import plotly.graph_objects as go\n",
    "import json\n",
    "import pandas as pd"
   ]
  },
  {
   "cell_type": "code",
   "execution_count": 5,
   "metadata": {},
   "outputs": [],
   "source": [
    "output_path = Path('output')"
   ]
  },
  {
   "cell_type": "code",
   "execution_count": 43,
   "metadata": {},
   "outputs": [
    {
     "data": {
      "application/vnd.plotly.v1+json": {
       "config": {
        "plotlyServerURL": "https://plot.ly"
       },
       "data": [
        {
         "name": "Soft_Soil-thk=12-width=0.67-q=80kPa",
         "type": "scatter",
         "x": [
          0.1047265008,
          0.2094530016,
          0.261816252,
          0.3141795024,
          0.3665427528,
          0.4189060032,
          0.4712692536,
          0.523632504,
          0.5498141292,
          0.5759957544,
          0.6021773796,
          0.6283590048,
          0.65454063,
          0.6807222552,
          0.7069038804,
          0.7330855056,
          0.7592671308,
          0.785448756,
          0.8116303812,
          0.8378120064,
          0.8639936316,
          0.8901752568,
          0.916356882,
          0.9425385072,
          0.9687201324,
          0.9949017576,
          1.0210833828,
          1.047265008,
          1.0734466332,
          1.0996282584,
          1.1258098836,
          1.1519915088,
          1.178173134,
          1.2043547592,
          1.2305363844,
          1.2567180096,
          1.2828996348,
          1.30908126,
          1.3352628852,
          1.3614445104,
          1.3876261356,
          1.4138077608,
          1.439989386,
          1.4661710112,
          1.4923526364,
          1.5185342616,
          1.5447158868,
          1.570897512,
          1.5970791372,
          1.6232607624,
          1.6494423876,
          1.6756240128,
          1.701805638,
          1.7279872632,
          1.7541688884,
          1.7803505136,
          1.8065321388,
          1.832713764,
          1.8588953892,
          1.8850770144,
          1.9112586396,
          1.9374402648,
          1.96362189,
          1.9898035152,
          2,
          2.0523632504,
          2.1047265008,
          2.1570897512,
          2.2094530016,
          2.2356346268,
          2.261816252,
          2.2879978772,
          2.3141795024,
          2.3403611276,
          2.3665427528,
          2.392724378,
          2.4189060032,
          2.4450876284,
          2.4712692536,
          2.4974508788,
          2.523632504,
          2.5498141292,
          2.5759957544,
          2.6021773796,
          2.6283590048,
          2.65454063,
          2.6807222552,
          2.7069038804,
          2.7330855056,
          2.7592671308,
          2.785448756,
          2.8116303812,
          2.8639936316,
          2.916356882,
          2.9687201324,
          3.0210833828,
          3.0734466332,
          3.1258098836,
          3.1519915088,
          3.178173134,
          3.2305363844,
          3.2828996348,
          3.3352628852,
          3.3876261356,
          3.439989386,
          3.4923526364,
          3.5447158868,
          3.5970791372,
          3.6494423876,
          3.6756240128,
          3.701805638,
          3.7541688884,
          3.7803505136,
          3.832713764,
          3.8850770144,
          3.9374402648,
          3.9898035152,
          4.0421667656,
          4.094530016,
          4.1468932664,
          4.1992565168,
          4.2516197672,
          4.3039830176,
          4.3301646428,
          4.3825278932,
          4.4348911436,
          4.487254394,
          4.5396176444,
          4.5919808948,
          4.6443441452,
          4.6967073956,
          4.749070646,
          4.8014338964,
          4.8537971468,
          4.9061603972,
          5.010886898,
          5.1156133988,
          5.2203398996,
          5.3250664004,
          5.4297929012,
          5.4821561516,
          5.534519402,
          5.5868826524,
          5.6916091532,
          5.796335654,
          5.9010621548,
          6,
          6.206064738,
          6.4121294761,
          6.6181942141,
          6.8242589521,
          7.0303236901,
          7.2363884282,
          7.4424531662,
          7.6485179042,
          7.8545826423,
          8.0606473803,
          8.2667121183,
          8.4727768564,
          8.6788415944,
          8.8849063324,
          9.0909710704,
          9.2970358085,
          9.5031005465,
          9.7091652845,
          9.9152300226,
          10.0182623916,
          10.1212947606,
          10.2243271296,
          10.3273594986,
          10.4303918676,
          10.6364566057,
          10.7394889747,
          10.8425213437,
          10.9455537127,
          11.1516184507,
          11.3576831888,
          11.5637479268,
          11.6667802958,
          11.8728450338,
          12.0789097719,
          12.2849745099,
          12.4910392479,
          12.697103986,
          12.903168724,
          13.109233462,
          13.3152982,
          13.5213629381,
          13.6243953071,
          13.8304600451,
          14,
          14.0401784202,
          14.1205352607,
          14.2812489415,
          14.4419626224,
          14.6026763033,
          14.7633899842,
          14.8437468246,
          15.0044605055,
          15.1651741864,
          15.3258878673,
          15.4866015482,
          15.6473152291,
          15.80802891,
          15.9687425908,
          16.1294562717,
          16.2901699526,
          16.4508836335,
          16.6115973144,
          16.7723109953,
          16.9330246762,
          17.2544520379,
          17.5758793997,
          17.8973067615,
          18.0580204423,
          18.2187341232,
          18.3794478041,
          18.540161485,
          18.7008751659,
          18.8615888468,
          19.0223025277,
          19.1830162085,
          19.3437298894,
          19.5044435703,
          19.6651572512,
          19.8258709321,
          19.986584613,
          20.1472982939,
          20.4687256556,
          20.7901530174,
          20.9508666983,
          21.1115803792,
          21.27229406,
          21.4330077409,
          21.5937214218,
          21.7544351027,
          21.9151487836,
          22.2365761454,
          22.5580035071,
          22.8794308689,
          23.2008582307,
          23.5222855924,
          23.8437129542,
          24.165140316,
          24.4865676777,
          24.8079950395,
          25.1294224013,
          25.2901360822,
          25.6115634439,
          25.9329908057,
          26.2544181675,
          26.5758455293,
          26.897272891,
          27.2187002528,
          27.3794139337,
          27.7008412954,
          28.0222686572,
          28.343696019,
          28.6651233808,
          28.9865507425,
          29.3079781043,
          29.6294054661,
          29.9508328278,
          30,
          30.032984948,
          30.098954844,
          30.2308946359,
          30.4947742199,
          31.0225333877,
          31.5502925556,
          32.0780517234,
          32.6058108913,
          33.1335700592,
          33.661329227,
          34.1890883949,
          34.7168475627,
          35.2446067306,
          35.7723658984,
          36.3001250663,
          36.8278842342,
          37.355643402,
          37.8834025699,
          38.4111617377,
          38.9389209056,
          39.4666800734,
          39.9944392413,
          40.5221984091,
          41.049957577,
          41.5777167449,
          42.1054759127,
          42.6332350806,
          43.1609942484,
          43.6887534163,
          44.2165125841,
          45.2720309199,
          46.3275492556,
          47.3830675913,
          47.9108267591,
          48.9663450949,
          50.0218634306,
          51.0773817663,
          52.132900102,
          53.1884184377,
          54.2439367734,
          54.7716959413,
          55.827214277,
          56.8827326127,
          57.9382509484,
          58.9937692841,
          60.0492876199,
          61.1048059556,
          62,
          62.0276123106,
          62.0828369318,
          62.1932861743,
          62.4141846591,
          62.8559816289,
          63.7395755684,
          65.5067634474,
          67.2739513263,
          69.0411392053,
          72.5755149633,
          76.1098907213,
          79.6442664792,
          83.1786422372,
          86.7130179952,
          90.2473937531,
          93.7817695111,
          97.3161452691,
          100.850521027,
          107.919272543,
          114.9880240589,
          126,
          126.0276109597,
          126.0828328791,
          126.1932767178,
          126.4141643953,
          126.8559397504,
          127.7394904604,
          129.5065918805,
          133.0407947207,
          140.1092004011,
          154.246011762,
          182.5196344836,
          239.066879927,
          254,
          254.0512,
          254.1536,
          254.3584,
          254.768,
          255.5872,
          257.2256,
          260.5024,
          267.056,
          280.1632,
          306.3776,
          358.8064,
          463.664,
          510,
          510.1024,
          510.3072,
          510.7168,
          511.536,
          513.1744,
          516.4512,
          523.0048,
          536.112,
          562.3264,
          614.7552,
          719.6128,
          929.328,
          1022
         ],
         "y": [
          0.0090238568,
          0.0233607391,
          0.0314594126,
          0.0405830883,
          0.0501904122,
          0.0602944472,
          0.0709479399,
          0.0821616145,
          0.0879003667,
          0.0937908082,
          0.0998110737,
          0.1059816814,
          0.112294333,
          0.1187401258,
          0.1253144176,
          0.1320125645,
          0.1388301271,
          0.1457844273,
          0.1528619334,
          0.1600335319,
          0.1673037976,
          0.1746872205,
          0.1821799659,
          0.1897816959,
          0.1974768206,
          0.2052760547,
          0.2131940335,
          0.221226454,
          0.2293610405,
          0.237605276,
          0.2459434826,
          0.2543908597,
          0.2629442863,
          0.2716089406,
          0.2803826388,
          0.2892613954,
          0.2982460908,
          0.3073419428,
          0.3165492769,
          0.3258738503,
          0.3353139621,
          0.3448659691,
          0.3545096068,
          0.3642513452,
          0.3740900219,
          0.3840335367,
          0.3940555141,
          0.4042019184,
          0.4144070217,
          0.4247324496,
          0.4351433146,
          0.4456308529,
          0.4561895786,
          0.4667812815,
          0.4774188061,
          0.4881101776,
          0.4988472536,
          0.5096341616,
          0.5204696034,
          0.5313530824,
          0.542283704,
          0.553258112,
          0.5642676168,
          0.5753085876,
          0.5796108835,
          0.5993633037,
          0.6182546049,
          0.6364563991,
          0.6540706001,
          0.6627397239,
          0.6712835428,
          0.6797162267,
          0.6880418975,
          0.6962613846,
          0.7043766654,
          0.7123911532,
          0.7203184791,
          0.7281526111,
          0.7358933886,
          0.7435382753,
          0.7510887997,
          0.7585505716,
          0.7659293525,
          0.7732290732,
          0.7804531225,
          0.7876026012,
          0.7946798258,
          0.8016879788,
          0.8086296658,
          0.8155062475,
          0.8223194727,
          0.8290712408,
          0.8423442766,
          0.85539743,
          0.8682385052,
          0.8808744737,
          0.8933083401,
          0.9055470336,
          0.9116182047,
          0.9176413561,
          0.9295031325,
          0.9411889915,
          0.9527048895,
          0.9640538708,
          0.9752384359,
          0.9862586115,
          0.9971207118,
          1.0078297757,
          1.018392083,
          1.0236372189,
          1.0288453901,
          1.0391170321,
          1.044217259,
          1.0542753233,
          1.0641982705,
          1.0739906271,
          1.0836591352,
          1.0932075883,
          1.1026386921,
          1.1119567412,
          1.1211646868,
          1.1302658528,
          1.1392628221,
          1.1437357638,
          1.1525836459,
          1.1613355848,
          1.1699935379,
          1.1785593239,
          1.1870358724,
          1.1954253979,
          1.2037295601,
          1.2119504129,
          1.2200917738,
          1.2281556719,
          1.2361428279,
          1.251820983,
          1.267211188,
          1.2823287739,
          1.2971838543,
          1.3117806879,
          1.3190140232,
          1.3261883134,
          1.3333027072,
          1.347299895,
          1.3610700502,
          1.374623544,
          1.387240355,
          1.4127578595,
          1.4375441737,
          1.4616476939,
          1.4851013729,
          1.5079338191,
          1.530170959,
          1.5518395002,
          1.572964969,
          1.5935704491,
          1.6136725415,
          1.6332902481,
          1.6524404333,
          1.6711406972,
          1.6894085528,
          1.7072579886,
          1.7247017293,
          1.7417544591,
          1.758425715,
          1.7747266806,
          1.7827827501,
          1.7907473562,
          1.7986225473,
          1.8064080596,
          1.814106245,
          1.8291671049,
          1.8366132806,
          1.8439775286,
          1.8512614924,
          1.8655175039,
          1.8794707154,
          1.8931322924,
          1.8998871074,
          1.9131175656,
          1.9260698739,
          1.9387513674,
          1.9511640165,
          1.9633171101,
          1.9752148441,
          1.9868654404,
          1.9982797639,
          2.0094652224,
          2.0149966734,
          2.0258446972,
          2.0346231248,
          2.0366938008,
          2.040803908,
          2.0489028949,
          2.0568754689,
          2.0647251544,
          2.0724541417,
          2.0762869382,
          2.0838424008,
          2.0912840383,
          2.098614485,
          2.1058353278,
          2.1129492683,
          2.1199560978,
          2.1268588712,
          2.1336576507,
          2.1403534185,
          2.1469504918,
          2.1534507165,
          2.1598570495,
          2.1661703449,
          2.1784377283,
          2.1903548266,
          2.2019379832,
          2.2076440603,
          2.2132689614,
          2.2188133684,
          2.224278471,
          2.2296665856,
          2.2349784531,
          2.2402153605,
          2.245377673,
          2.25046704,
          2.2554854278,
          2.2604339541,
          2.2653137609,
          2.2701258882,
          2.2748715799,
          2.284109195,
          2.2930970891,
          2.2975272318,
          2.3018974137,
          2.3062078119,
          2.3104594916,
          2.3146534625,
          2.3187908789,
          2.3228724651,
          2.3308229625,
          2.3385633464,
          2.3461006398,
          2.3534412072,
          2.3605900818,
          2.3675539889,
          2.3743350542,
          2.380940513,
          2.3873768227,
          2.3936475659,
          2.3967400646,
          2.40277369,
          2.4086521229,
          2.4143819183,
          2.4199671025,
          2.4254133922,
          2.4307232836,
          2.4333433936,
          2.4384571645,
          2.4434439133,
          2.4483076812,
          2.4530516706,
          2.4576783358,
          2.4621910917,
          2.4665928179,
          2.4708865259,
          2.4715416693,
          2.4719797221,
          2.4728507567,
          2.4745740605,
          2.477951695,
          2.4844416314,
          2.4906738116,
          2.4966588979,
          2.5024064304,
          2.5079269851,
          2.5132310904,
          2.5183265876,
          2.5232210333,
          2.5279234394,
          2.5324410638,
          2.5367817238,
          2.5409516788,
          2.5449581457,
          2.5488067167,
          2.5525039829,
          2.5560555424,
          2.5594670028,
          2.5627438384,
          2.5658916151,
          2.5689153404,
          2.5718196373,
          2.5746090249,
          2.5772876778,
          2.5798595388,
          2.5823292858,
          2.5847012753,
          2.5890808932,
          2.5931246277,
          2.5968593092,
          2.5986524267,
          2.6019611828,
          2.6050141678,
          2.6078303873,
          2.6104281611,
          2.6128241073,
          2.6150335103,
          2.6160931396,
          2.6180495074,
          2.6198509493,
          2.621510476,
          2.6230401456,
          2.6244505479,
          2.6257502975,
          2.6267801364,
          2.6268131326,
          2.6268752459,
          2.6270000192,
          2.6272455674,
          2.6277217188,
          2.6286112937,
          2.6301686777,
          2.631530761,
          2.6327223419,
          2.6345877563,
          2.6360275641,
          2.6371491668,
          2.6380195725,
          2.638698242,
          2.6392244027,
          2.6396348445,
          2.63995615,
          2.6402038116,
          2.6405310258,
          2.6407361998,
          2.6409105521,
          2.6409109993,
          2.6409118487,
          2.6409135497,
          2.640916872,
          2.6409232716,
          2.6409353432,
          2.6409575118,
          2.6409955859,
          2.641055662,
          2.6411292726,
          2.6411595296,
          2.6411575591,
          2.6411550611,
          2.641155053,
          2.6411550381,
          2.6411550122,
          2.6411549725,
          2.6411549232,
          2.6411548779,
          2.6411548461,
          2.64115482,
          2.6411547808,
          2.6411547049,
          2.6411545533,
          2.6411542504,
          2.6411541166,
          2.6411541163,
          2.6411541158,
          2.6411541151,
          2.6411541143,
          2.6411541136,
          2.6411541132,
          2.6411541131,
          2.641154113,
          2.641154113,
          2.6411541131,
          2.6411541131,
          2.6411541131,
          2.6411541132
         ]
        },
        {
         "name": "Soft_Soil_Creep-thk=12-width=0.67-q=80kPa",
         "type": "scatter",
         "x": [
          0.1677169791,
          0.2515754687,
          0.2935047135,
          0.3144693359,
          0.3563985807,
          0.3983278255,
          0.4192924479,
          0.4402570702,
          0.4612216926,
          0.482186315,
          0.5031509374,
          0.5241155598,
          0.5450801822,
          0.5660448046,
          0.587009427,
          0.6079740494,
          0.6289386718,
          0.6499032942,
          0.6708679166,
          0.691832539,
          0.7127971614,
          0.7337617837,
          0.7547264061,
          0.7756910285,
          0.7966556509,
          0.8176202733,
          0.8385848957,
          0.8595495181,
          0.8805141405,
          0.9014787629,
          0.9224433853,
          0.9434080077,
          0.9643726301,
          0.9853372525,
          1.0063018749,
          1.0272664972,
          1.0482311196,
          1.069195742,
          1.0901603644,
          1.1111249868,
          1.1320896092,
          1.1530542316,
          1.174018854,
          1.1949834764,
          1.2159480988,
          1.2578773436,
          1.278841966,
          1.2998065884,
          1.3207712107,
          1.3417358331,
          1.3836650779,
          1.4046297003,
          1.4465589451,
          1.4675235675,
          1.5094528123,
          1.5304174347,
          1.5723466795,
          1.5933113019,
          1.6352405466,
          1.6771697914,
          1.7190990362,
          1.761028281,
          1.8029575258,
          1.8448867706,
          1.8868160154,
          1.9077806377,
          1.9497098825,
          1.9916391273,
          2,
          2.0419292448,
          2.0838584896,
          2.1257877344,
          2.1677169791,
          2.2096462239,
          2.2515754687,
          2.2935047135,
          2.3354339583,
          2.3773632031,
          2.4192924479,
          2.5031509374,
          2.587009427,
          2.6708679166,
          2.7547264061,
          2.8385848957,
          2.9224433853,
          3.0063018749,
          3.0901603644,
          3.174018854,
          3.2578773436,
          3.3417358331,
          3.4255943227,
          3.5933113019,
          3.761028281,
          3.9287452601,
          4.0964622393,
          4.2641792184,
          4.4318961976,
          4.5996131767,
          4.7673301558,
          4.935047135,
          5.1027641141,
          5.2704810933,
          5.4381980724,
          5.7736320307,
          6,
          6.1650038677,
          6.4950116032,
          6.8250193386,
          7.155027074,
          7.4850348095,
          7.8150425449,
          8.1450502804,
          8.4750580158,
          8.8050657513,
          9.1350734867,
          9.4650812221,
          10.125096693,
          10.4551044285,
          10.7851121639,
          10.9501160316,
          11.2801237671,
          11.6101315025,
          11.940139238,
          12.2701469734,
          12.6001547088,
          12.7651585766,
          13.095166312,
          13.4251740474,
          13.7551817829,
          14,
          14.0660702536,
          14.1982107609,
          14.4624917754,
          14.7267727899,
          14.9910538044,
          15.2553348189,
          15.5196158334,
          15.7838968479,
          16.0481778624,
          16.3124588769,
          16.5767398914,
          16.8410209059,
          17.1053019204,
          17.3695829349,
          17.6338639494,
          17.8981449639,
          18.1624259784,
          18.4267069929,
          18.6909880074,
          18.9552690219,
          19.2195500363,
          19.4838310508,
          19.7481120653,
          19.8802525726,
          20.1445335871,
          20.4088146016,
          20.5409551088,
          20.8052361233,
          21.0695171378,
          21.3337981523,
          21.5980791668,
          21.8623601813,
          22.1266411958,
          22.2587817031,
          22.5230627176,
          22.6552032248,
          22.7873437321,
          22.9194842393,
          23.0516247466,
          23.3159057611,
          23.5801867756,
          23.8444677901,
          24.1087488046,
          24.3730298191,
          24.6373108336,
          24.9015918481,
          25.1658728626,
          25.4301538771,
          25.6944348916,
          25.9587159061,
          26.2229969206,
          26.4872779351,
          26.7515589496,
          27.0158399641,
          27.1479804713,
          27.4122614858,
          27.6765425003,
          27.9408235148,
          28.0729640221,
          28.3372450366,
          28.6015260511,
          28.7336665583,
          28.9979475728,
          29.13008808,
          29.3943690945,
          29.658650109,
          29.9229311235,
          30,
          30.0127219379,
          30.0381658137,
          30.0890535652,
          30.1908290684,
          30.3943800747,
          30.8014820872,
          31.0050330935,
          31.4121351061,
          31.6156861124,
          32.0227881249,
          32.4298901375,
          32.8369921501,
          33.2440941627,
          33.6511961752,
          34.0582981878,
          34.2618491941,
          34.4654002004,
          34.6689512066,
          34.8725022129,
          35.2796042255,
          35.6867062381,
          36.0938082506,
          36.2973592569,
          36.7044612695,
          36.9080122758,
          37.111563282,
          37.3151142883,
          37.5186652946,
          37.7222163009,
          37.9257673072,
          38.3328693198,
          38.536420326,
          38.9435223386,
          39.3506243512,
          39.7577263637,
          40.1648283763,
          40.3683793826,
          40.7754813952,
          41.1825834077,
          41.5896854203,
          41.9967874329,
          42.4038894454,
          42.810991458,
          43.2180934706,
          43.6251954831,
          44.0322974957,
          44.4393995083,
          44.8465015208,
          45.2536035334,
          45.660705546,
          46.0678075585,
          46.4749095711,
          46.8820115837,
          47.2891135962,
          47.6962156088,
          48.1033176214,
          48.5104196339,
          49.3246236591,
          50.1388276842,
          50.9530317094,
          51.7672357345,
          52.5814397596,
          53.3956437848,
          54.2098478099,
          55.024051835,
          55.8382558602,
          56.6524598853,
          57.4666639104,
          58.2808679356,
          59.0950719607,
          59.9092759859,
          60.723480011,
          61.5376840361,
          62,
          62.0114602395,
          62.0343807184,
          62.0802216762,
          62.1719035919,
          62.3552674233,
          62.721995086,
          63.4554504115,
          64.9223610624,
          66.3892717134,
          67.8561823643,
          69.3230930152,
          70.7900036662,
          72.2569143171,
          73.7238249681,
          75.190735619,
          76.65764627,
          79.5914675718,
          81.0583782228,
          83.9921995247,
          86.9260208266,
          89.8598421284,
          92.7936634303,
          95.7274847322,
          98.6613060341,
          101.595127336,
          104.5289486379,
          107.4627699397,
          110.3965912416,
          116.2642338454,
          122.1318764492,
          126,
          126.0128,
          126.0384,
          126.0896,
          126.192,
          126.3968,
          126.8064,
          127.6256,
          129.264,
          132.5408,
          139.0944,
          152.2016,
          165.3088,
          178.416,
          191.5232,
          204.6304,
          217.7376,
          230.8448,
          243.952,
          254,
          254.0256,
          254.0768,
          254.1792,
          254.384,
          254.7936,
          255.6128,
          257.2512,
          260.528,
          267.0816,
          280.1888,
          306.4032,
          358.832,
          411.2608,
          463.6896,
          510,
          510.0512,
          510.1536,
          510.3584,
          510.768,
          511.5872,
          513.2256,
          516.5024,
          523.056,
          536.1632,
          562.3776,
          614.8064,
          719.664,
          824.5216,
          1022
         ],
         "y": [
          0.0153936432,
          0.0248098618,
          0.0299397509,
          0.0325638923,
          0.0384763129,
          0.0447932745,
          0.0479864288,
          0.0513409945,
          0.0548239786,
          0.0584177835,
          0.0621004691,
          0.0658888785,
          0.0697727719,
          0.0737480336,
          0.077811536,
          0.0819606701,
          0.0861948776,
          0.090502702,
          0.0948896103,
          0.0993591857,
          0.103871059,
          0.108501454,
          0.1132249975,
          0.1180356984,
          0.1229295207,
          0.1279051707,
          0.1329688294,
          0.1381196424,
          0.1433612688,
          0.1486909874,
          0.1541073213,
          0.1596101361,
          0.1651982242,
          0.1708717405,
          0.1766293516,
          0.1824474139,
          0.1883586783,
          0.1943579825,
          0.2004433609,
          0.2066167534,
          0.2128911492,
          0.219248552,
          0.225666767,
          0.2321388877,
          0.2386698577,
          0.252174218,
          0.2589092889,
          0.2657108952,
          0.2725801956,
          0.2795295524,
          0.2938973324,
          0.3010741442,
          0.3158312066,
          0.3231804458,
          0.3382655856,
          0.3457844401,
          0.3612067312,
          0.3688949642,
          0.3846389475,
          0.4005656941,
          0.4166581521,
          0.4329008729,
          0.4492781741,
          0.4657757965,
          0.4823564007,
          0.4905619487,
          0.5072593334,
          0.5240554155,
          0.5273567316,
          0.5429304293,
          0.5579875702,
          0.5725913591,
          0.5867963309,
          0.6006475404,
          0.6141827894,
          0.6274276925,
          0.6404031503,
          0.6531272737,
          0.6656142185,
          0.6899443762,
          0.7134572682,
          0.7362490841,
          0.75839214,
          0.779938392,
          0.8009336724,
          0.8214160895,
          0.8414134277,
          0.8609482424,
          0.880051461,
          0.8987478617,
          0.9170568339,
          0.9526177969,
          0.9868592447,
          1.0199037138,
          1.0518770994,
          1.0828661515,
          1.1129480359,
          1.1421862679,
          1.170635897,
          1.1983399311,
          1.2253353583,
          1.2516652009,
          1.2773707632,
          1.3270200333,
          1.3592772998,
          1.3822490198,
          1.4267397529,
          1.4694847836,
          1.5106188095,
          1.5502605215,
          1.5885031841,
          1.6254198376,
          1.6610847685,
          1.6955653817,
          1.7289233067,
          1.761212893,
          1.8227101283,
          1.8520830448,
          1.880569708,
          1.8945072245,
          1.9217454979,
          1.9481986168,
          1.9738933118,
          1.9988590046,
          2.0231237822,
          2.0350014133,
          2.0582600662,
          2.0808936804,
          2.1029194496,
          2.1188728667,
          2.1231211024,
          2.1315381136,
          2.1481273013,
          2.1643776803,
          2.1802920568,
          2.1958797057,
          2.2111501816,
          2.2261128891,
          2.2407768269,
          2.2551505485,
          2.2692422267,
          2.2830600499,
          2.2966115301,
          2.3099038716,
          2.3229437771,
          2.3357377388,
          2.3482925684,
          2.3606145217,
          2.372709492,
          2.3845833321,
          2.3962418684,
          2.4076903869,
          2.4189339879,
          2.4244712726,
          2.4354091524,
          2.4461596069,
          2.4514556865,
          2.4619200844,
          2.4722093021,
          2.4823227093,
          2.4922633895,
          2.5020352562,
          2.5116420114,
          2.5163770931,
          2.5257364878,
          2.5303521644,
          2.5349245085,
          2.5394575505,
          2.5439521326,
          2.5528496921,
          2.5616084673,
          2.5702265527,
          2.5787057845,
          2.5870486447,
          2.5952576778,
          2.603335592,
          2.6112849981,
          2.6191083437,
          2.6268086686,
          2.6343885536,
          2.6418498738,
          2.649194881,
          2.6564259494,
          2.6635453915,
          2.6670603902,
          2.6740113859,
          2.6808593779,
          2.6876037716,
          2.6909347553,
          2.6975224589,
          2.7040143325,
          2.7072210971,
          2.7135641851,
          2.7166986147,
          2.7228998051,
          2.729012401,
          2.7350355389,
          2.7367749067,
          2.7370619812,
          2.7376336111,
          2.7387727915,
          2.7410405367,
          2.7455394768,
          2.7544167858,
          2.7587771384,
          2.7673651097,
          2.7715829509,
          2.7798884872,
          2.788017571,
          2.7959701763,
          2.8037494306,
          2.8113592983,
          2.8188037751,
          2.822461004,
          2.8260730414,
          2.8296433642,
          2.8331734612,
          2.8401309257,
          2.8469466067,
          2.8536190617,
          2.8568995886,
          2.8633549713,
          2.8665303226,
          2.8696678222,
          2.8727702031,
          2.8758384852,
          2.8788736236,
          2.8818761612,
          2.887796806,
          2.8907110858,
          2.8964510911,
          2.9020776282,
          2.9075901178,
          2.912990214,
          2.9156479537,
          2.920878356,
          2.9260048744,
          2.9310278479,
          2.9359492884,
          2.9407714352,
          2.9454965146,
          2.9501267859,
          2.9546645818,
          2.9591120351,
          2.9634711987,
          2.9677441604,
          2.9719328971,
          2.9760394283,
          2.9800658303,
          2.9840140231,
          2.9878858349,
          2.9916832554,
          2.9954078553,
          2.9990613825,
          3.0026455115,
          3.0096262239,
          3.0163634775,
          3.0228595396,
          3.029122918,
          3.0351629133,
          3.0409893343,
          3.0466113881,
          3.0520378692,
          3.0572778106,
          3.062339645,
          3.0672317303,
          3.0719618851,
          3.0765375948,
          3.0809658055,
          3.0852531908,
          3.0894062375,
          3.0917106024,
          3.0917684548,
          3.0918818476,
          3.0921080898,
          3.0925595766,
          3.0934559638,
          3.0952255556,
          3.0986876106,
          3.1053475328,
          3.1116869393,
          3.1177156684,
          3.1234535801,
          3.128921364,
          3.1341386673,
          3.1391238672,
          3.143894069,
          3.1484641164,
          3.1570653192,
          3.1611370649,
          3.168811572,
          3.1759711328,
          3.1826613941,
          3.188931644,
          3.1948264042,
          3.2003850988,
          3.2056421809,
          3.2106270667,
          3.2153656052,
          3.2198788459,
          3.2283149764,
          3.2360837619,
          3.2408801775,
          3.2408961654,
          3.2409276355,
          3.2409904347,
          3.2411157622,
          3.2413649668,
          3.2418587056,
          3.2428333042,
          3.2447468946,
          3.2484572491,
          3.2554738961,
          3.2681509876,
          3.279331302,
          3.2893066261,
          3.2983075751,
          3.3065057911,
          3.3140318012,
          3.3209875668,
          3.3274513921,
          3.3321170286,
          3.3321289634,
          3.3321525246,
          3.3321995448,
          3.3322932937,
          3.3324796209,
          3.3328492562,
          3.3335815194,
          3.3350269561,
          3.3378534736,
          3.3432573535,
          3.3532124009,
          3.3704068888,
          3.3848914735,
          3.3973937995,
          3.4071646457,
          3.4071754045,
          3.4071966209,
          3.4072387518,
          3.4073222125,
          3.4074872217,
          3.4078139184,
          3.4084616577,
          3.4097426201,
          3.4122533134,
          3.4170786355,
          3.4260316823,
          3.4416897855,
          3.4550507756,
          3.4759061948
         ]
        }
       ],
       "layout": {
        "height": 600,
        "images": [
         {
          "sizex": 0.2,
          "sizey": 0.3,
          "source": "https://gitlab.com/dazhong.li/utility/-/blob/master/image/arup_logo.png",
          "x": 0.1,
          "xanchor": "center",
          "xref": "paper",
          "y": 1,
          "yanchor": "bottom",
          "yref": "paper"
         }
        ],
        "legend": {
         "orientation": "h"
        },
        "margin": {
         "b": 20,
         "l": 20,
         "r": 20,
         "t": 20
        },
        "template": {
         "data": {
          "bar": [
           {
            "error_x": {
             "color": "rgb(36,36,36)"
            },
            "error_y": {
             "color": "rgb(36,36,36)"
            },
            "marker": {
             "line": {
              "color": "white",
              "width": 0.5
             },
             "pattern": {
              "fillmode": "overlay",
              "size": 10,
              "solidity": 0.2
             }
            },
            "type": "bar"
           }
          ],
          "barpolar": [
           {
            "marker": {
             "line": {
              "color": "white",
              "width": 0.5
             },
             "pattern": {
              "fillmode": "overlay",
              "size": 10,
              "solidity": 0.2
             }
            },
            "type": "barpolar"
           }
          ],
          "carpet": [
           {
            "aaxis": {
             "endlinecolor": "rgb(36,36,36)",
             "gridcolor": "white",
             "linecolor": "white",
             "minorgridcolor": "white",
             "startlinecolor": "rgb(36,36,36)"
            },
            "baxis": {
             "endlinecolor": "rgb(36,36,36)",
             "gridcolor": "white",
             "linecolor": "white",
             "minorgridcolor": "white",
             "startlinecolor": "rgb(36,36,36)"
            },
            "type": "carpet"
           }
          ],
          "choropleth": [
           {
            "colorbar": {
             "outlinewidth": 1,
             "tickcolor": "rgb(36,36,36)",
             "ticks": "outside"
            },
            "type": "choropleth"
           }
          ],
          "contour": [
           {
            "colorbar": {
             "outlinewidth": 1,
             "tickcolor": "rgb(36,36,36)",
             "ticks": "outside"
            },
            "colorscale": [
             [
              0,
              "#440154"
             ],
             [
              0.1111111111111111,
              "#482878"
             ],
             [
              0.2222222222222222,
              "#3e4989"
             ],
             [
              0.3333333333333333,
              "#31688e"
             ],
             [
              0.4444444444444444,
              "#26828e"
             ],
             [
              0.5555555555555556,
              "#1f9e89"
             ],
             [
              0.6666666666666666,
              "#35b779"
             ],
             [
              0.7777777777777778,
              "#6ece58"
             ],
             [
              0.8888888888888888,
              "#b5de2b"
             ],
             [
              1,
              "#fde725"
             ]
            ],
            "type": "contour"
           }
          ],
          "contourcarpet": [
           {
            "colorbar": {
             "outlinewidth": 1,
             "tickcolor": "rgb(36,36,36)",
             "ticks": "outside"
            },
            "type": "contourcarpet"
           }
          ],
          "heatmap": [
           {
            "colorbar": {
             "outlinewidth": 1,
             "tickcolor": "rgb(36,36,36)",
             "ticks": "outside"
            },
            "colorscale": [
             [
              0,
              "#440154"
             ],
             [
              0.1111111111111111,
              "#482878"
             ],
             [
              0.2222222222222222,
              "#3e4989"
             ],
             [
              0.3333333333333333,
              "#31688e"
             ],
             [
              0.4444444444444444,
              "#26828e"
             ],
             [
              0.5555555555555556,
              "#1f9e89"
             ],
             [
              0.6666666666666666,
              "#35b779"
             ],
             [
              0.7777777777777778,
              "#6ece58"
             ],
             [
              0.8888888888888888,
              "#b5de2b"
             ],
             [
              1,
              "#fde725"
             ]
            ],
            "type": "heatmap"
           }
          ],
          "heatmapgl": [
           {
            "colorbar": {
             "outlinewidth": 1,
             "tickcolor": "rgb(36,36,36)",
             "ticks": "outside"
            },
            "colorscale": [
             [
              0,
              "#440154"
             ],
             [
              0.1111111111111111,
              "#482878"
             ],
             [
              0.2222222222222222,
              "#3e4989"
             ],
             [
              0.3333333333333333,
              "#31688e"
             ],
             [
              0.4444444444444444,
              "#26828e"
             ],
             [
              0.5555555555555556,
              "#1f9e89"
             ],
             [
              0.6666666666666666,
              "#35b779"
             ],
             [
              0.7777777777777778,
              "#6ece58"
             ],
             [
              0.8888888888888888,
              "#b5de2b"
             ],
             [
              1,
              "#fde725"
             ]
            ],
            "type": "heatmapgl"
           }
          ],
          "histogram": [
           {
            "marker": {
             "line": {
              "color": "white",
              "width": 0.6
             }
            },
            "type": "histogram"
           }
          ],
          "histogram2d": [
           {
            "colorbar": {
             "outlinewidth": 1,
             "tickcolor": "rgb(36,36,36)",
             "ticks": "outside"
            },
            "colorscale": [
             [
              0,
              "#440154"
             ],
             [
              0.1111111111111111,
              "#482878"
             ],
             [
              0.2222222222222222,
              "#3e4989"
             ],
             [
              0.3333333333333333,
              "#31688e"
             ],
             [
              0.4444444444444444,
              "#26828e"
             ],
             [
              0.5555555555555556,
              "#1f9e89"
             ],
             [
              0.6666666666666666,
              "#35b779"
             ],
             [
              0.7777777777777778,
              "#6ece58"
             ],
             [
              0.8888888888888888,
              "#b5de2b"
             ],
             [
              1,
              "#fde725"
             ]
            ],
            "type": "histogram2d"
           }
          ],
          "histogram2dcontour": [
           {
            "colorbar": {
             "outlinewidth": 1,
             "tickcolor": "rgb(36,36,36)",
             "ticks": "outside"
            },
            "colorscale": [
             [
              0,
              "#440154"
             ],
             [
              0.1111111111111111,
              "#482878"
             ],
             [
              0.2222222222222222,
              "#3e4989"
             ],
             [
              0.3333333333333333,
              "#31688e"
             ],
             [
              0.4444444444444444,
              "#26828e"
             ],
             [
              0.5555555555555556,
              "#1f9e89"
             ],
             [
              0.6666666666666666,
              "#35b779"
             ],
             [
              0.7777777777777778,
              "#6ece58"
             ],
             [
              0.8888888888888888,
              "#b5de2b"
             ],
             [
              1,
              "#fde725"
             ]
            ],
            "type": "histogram2dcontour"
           }
          ],
          "mesh3d": [
           {
            "colorbar": {
             "outlinewidth": 1,
             "tickcolor": "rgb(36,36,36)",
             "ticks": "outside"
            },
            "type": "mesh3d"
           }
          ],
          "parcoords": [
           {
            "line": {
             "colorbar": {
              "outlinewidth": 1,
              "tickcolor": "rgb(36,36,36)",
              "ticks": "outside"
             }
            },
            "type": "parcoords"
           }
          ],
          "pie": [
           {
            "automargin": true,
            "type": "pie"
           }
          ],
          "scatter": [
           {
            "fillpattern": {
             "fillmode": "overlay",
             "size": 10,
             "solidity": 0.2
            },
            "type": "scatter"
           }
          ],
          "scatter3d": [
           {
            "line": {
             "colorbar": {
              "outlinewidth": 1,
              "tickcolor": "rgb(36,36,36)",
              "ticks": "outside"
             }
            },
            "marker": {
             "colorbar": {
              "outlinewidth": 1,
              "tickcolor": "rgb(36,36,36)",
              "ticks": "outside"
             }
            },
            "type": "scatter3d"
           }
          ],
          "scattercarpet": [
           {
            "marker": {
             "colorbar": {
              "outlinewidth": 1,
              "tickcolor": "rgb(36,36,36)",
              "ticks": "outside"
             }
            },
            "type": "scattercarpet"
           }
          ],
          "scattergeo": [
           {
            "marker": {
             "colorbar": {
              "outlinewidth": 1,
              "tickcolor": "rgb(36,36,36)",
              "ticks": "outside"
             }
            },
            "type": "scattergeo"
           }
          ],
          "scattergl": [
           {
            "marker": {
             "colorbar": {
              "outlinewidth": 1,
              "tickcolor": "rgb(36,36,36)",
              "ticks": "outside"
             }
            },
            "type": "scattergl"
           }
          ],
          "scattermapbox": [
           {
            "marker": {
             "colorbar": {
              "outlinewidth": 1,
              "tickcolor": "rgb(36,36,36)",
              "ticks": "outside"
             }
            },
            "type": "scattermapbox"
           }
          ],
          "scatterpolar": [
           {
            "marker": {
             "colorbar": {
              "outlinewidth": 1,
              "tickcolor": "rgb(36,36,36)",
              "ticks": "outside"
             }
            },
            "type": "scatterpolar"
           }
          ],
          "scatterpolargl": [
           {
            "marker": {
             "colorbar": {
              "outlinewidth": 1,
              "tickcolor": "rgb(36,36,36)",
              "ticks": "outside"
             }
            },
            "type": "scatterpolargl"
           }
          ],
          "scatterternary": [
           {
            "marker": {
             "colorbar": {
              "outlinewidth": 1,
              "tickcolor": "rgb(36,36,36)",
              "ticks": "outside"
             }
            },
            "type": "scatterternary"
           }
          ],
          "surface": [
           {
            "colorbar": {
             "outlinewidth": 1,
             "tickcolor": "rgb(36,36,36)",
             "ticks": "outside"
            },
            "colorscale": [
             [
              0,
              "#440154"
             ],
             [
              0.1111111111111111,
              "#482878"
             ],
             [
              0.2222222222222222,
              "#3e4989"
             ],
             [
              0.3333333333333333,
              "#31688e"
             ],
             [
              0.4444444444444444,
              "#26828e"
             ],
             [
              0.5555555555555556,
              "#1f9e89"
             ],
             [
              0.6666666666666666,
              "#35b779"
             ],
             [
              0.7777777777777778,
              "#6ece58"
             ],
             [
              0.8888888888888888,
              "#b5de2b"
             ],
             [
              1,
              "#fde725"
             ]
            ],
            "type": "surface"
           }
          ],
          "table": [
           {
            "cells": {
             "fill": {
              "color": "rgb(237,237,237)"
             },
             "line": {
              "color": "white"
             }
            },
            "header": {
             "fill": {
              "color": "rgb(217,217,217)"
             },
             "line": {
              "color": "white"
             }
            },
            "type": "table"
           }
          ]
         },
         "layout": {
          "annotationdefaults": {
           "arrowhead": 0,
           "arrowwidth": 1
          },
          "autotypenumbers": "strict",
          "coloraxis": {
           "colorbar": {
            "outlinewidth": 1,
            "tickcolor": "rgb(36,36,36)",
            "ticks": "outside"
           }
          },
          "colorscale": {
           "diverging": [
            [
             0,
             "rgb(103,0,31)"
            ],
            [
             0.1,
             "rgb(178,24,43)"
            ],
            [
             0.2,
             "rgb(214,96,77)"
            ],
            [
             0.3,
             "rgb(244,165,130)"
            ],
            [
             0.4,
             "rgb(253,219,199)"
            ],
            [
             0.5,
             "rgb(247,247,247)"
            ],
            [
             0.6,
             "rgb(209,229,240)"
            ],
            [
             0.7,
             "rgb(146,197,222)"
            ],
            [
             0.8,
             "rgb(67,147,195)"
            ],
            [
             0.9,
             "rgb(33,102,172)"
            ],
            [
             1,
             "rgb(5,48,97)"
            ]
           ],
           "sequential": [
            [
             0,
             "#440154"
            ],
            [
             0.1111111111111111,
             "#482878"
            ],
            [
             0.2222222222222222,
             "#3e4989"
            ],
            [
             0.3333333333333333,
             "#31688e"
            ],
            [
             0.4444444444444444,
             "#26828e"
            ],
            [
             0.5555555555555556,
             "#1f9e89"
            ],
            [
             0.6666666666666666,
             "#35b779"
            ],
            [
             0.7777777777777778,
             "#6ece58"
            ],
            [
             0.8888888888888888,
             "#b5de2b"
            ],
            [
             1,
             "#fde725"
            ]
           ],
           "sequentialminus": [
            [
             0,
             "#440154"
            ],
            [
             0.1111111111111111,
             "#482878"
            ],
            [
             0.2222222222222222,
             "#3e4989"
            ],
            [
             0.3333333333333333,
             "#31688e"
            ],
            [
             0.4444444444444444,
             "#26828e"
            ],
            [
             0.5555555555555556,
             "#1f9e89"
            ],
            [
             0.6666666666666666,
             "#35b779"
            ],
            [
             0.7777777777777778,
             "#6ece58"
            ],
            [
             0.8888888888888888,
             "#b5de2b"
            ],
            [
             1,
             "#fde725"
            ]
           ]
          },
          "colorway": [
           "#1F77B4",
           "#FF7F0E",
           "#2CA02C",
           "#D62728",
           "#9467BD",
           "#8C564B",
           "#E377C2",
           "#7F7F7F",
           "#BCBD22",
           "#17BECF"
          ],
          "font": {
           "color": "rgb(36,36,36)"
          },
          "geo": {
           "bgcolor": "white",
           "lakecolor": "white",
           "landcolor": "white",
           "showlakes": true,
           "showland": true,
           "subunitcolor": "white"
          },
          "hoverlabel": {
           "align": "left"
          },
          "hovermode": "closest",
          "mapbox": {
           "style": "light"
          },
          "paper_bgcolor": "white",
          "plot_bgcolor": "white",
          "polar": {
           "angularaxis": {
            "gridcolor": "rgb(232,232,232)",
            "linecolor": "rgb(36,36,36)",
            "showgrid": false,
            "showline": true,
            "ticks": "outside"
           },
           "bgcolor": "white",
           "radialaxis": {
            "gridcolor": "rgb(232,232,232)",
            "linecolor": "rgb(36,36,36)",
            "showgrid": false,
            "showline": true,
            "ticks": "outside"
           }
          },
          "scene": {
           "xaxis": {
            "backgroundcolor": "white",
            "gridcolor": "rgb(232,232,232)",
            "gridwidth": 2,
            "linecolor": "rgb(36,36,36)",
            "showbackground": true,
            "showgrid": false,
            "showline": true,
            "ticks": "outside",
            "zeroline": false,
            "zerolinecolor": "rgb(36,36,36)"
           },
           "yaxis": {
            "backgroundcolor": "white",
            "gridcolor": "rgb(232,232,232)",
            "gridwidth": 2,
            "linecolor": "rgb(36,36,36)",
            "showbackground": true,
            "showgrid": false,
            "showline": true,
            "ticks": "outside",
            "zeroline": false,
            "zerolinecolor": "rgb(36,36,36)"
           },
           "zaxis": {
            "backgroundcolor": "white",
            "gridcolor": "rgb(232,232,232)",
            "gridwidth": 2,
            "linecolor": "rgb(36,36,36)",
            "showbackground": true,
            "showgrid": false,
            "showline": true,
            "ticks": "outside",
            "zeroline": false,
            "zerolinecolor": "rgb(36,36,36)"
           }
          },
          "shapedefaults": {
           "fillcolor": "black",
           "line": {
            "width": 0
           },
           "opacity": 0.3
          },
          "ternary": {
           "aaxis": {
            "gridcolor": "rgb(232,232,232)",
            "linecolor": "rgb(36,36,36)",
            "showgrid": false,
            "showline": true,
            "ticks": "outside"
           },
           "baxis": {
            "gridcolor": "rgb(232,232,232)",
            "linecolor": "rgb(36,36,36)",
            "showgrid": false,
            "showline": true,
            "ticks": "outside"
           },
           "bgcolor": "white",
           "caxis": {
            "gridcolor": "rgb(232,232,232)",
            "linecolor": "rgb(36,36,36)",
            "showgrid": false,
            "showline": true,
            "ticks": "outside"
           }
          },
          "title": {
           "x": 0.05
          },
          "xaxis": {
           "automargin": true,
           "gridcolor": "rgb(232,232,232)",
           "linecolor": "rgb(36,36,36)",
           "showgrid": false,
           "showline": true,
           "ticks": "outside",
           "title": {
            "standoff": 15
           },
           "zeroline": false,
           "zerolinecolor": "rgb(36,36,36)"
          },
          "yaxis": {
           "automargin": true,
           "gridcolor": "rgb(232,232,232)",
           "linecolor": "rgb(36,36,36)",
           "showgrid": false,
           "showline": true,
           "ticks": "outside",
           "title": {
            "standoff": 15
           },
           "zeroline": false,
           "zerolinecolor": "rgb(36,36,36)"
          }
         }
        },
        "width": 1000,
        "xaxis": {
         "anchor": "y",
         "autorange": true,
         "domain": [
          0,
          1
         ],
         "range": [
          -0.9799434071950729,
          3.0094508957986936
         ],
         "showgrid": true,
         "title": {
          "text": "Time(days)"
         },
         "type": "log"
        },
        "yaxis": {
         "anchor": "x",
         "domain": [
          0,
          1
         ],
         "range": [
          3.8234968142800003,
          0
         ],
         "showgrid": true,
         "title": {
          "text": "Settlement(m)"
         },
         "type": "linear"
        }
       }
      },
      "image/png": "[encoded data removed]"
     },
     "metadata": {},
     "output_type": "display_data"
    }
   ],
   "source": [
    "fig = GEOPlot.get_figure()\n",
    "for file in output_path.glob('*thk=12-width=0.67-q=80kPa.json'):\n",
    "    with open(file) as fin:\n",
    "        data = json.load(fin)\n",
    "        df = pd.DataFrame(data)\n",
    "    fig.add_trace(go.Scatter(x=df.time, y=df.y,name=file.stem))\n",
    "fig.update_xaxes(type='log',title='Time(days)')\n",
    "fig.update_yaxes(range=[df.y.max()*1.1, 0],title = 'Settlement(m)')\n",
    "fig.update_layout(width=1000,height=600,legend=dict(orientation='h'))"
   ]
  },
  {
   "cell_type": "code",
   "execution_count": 21,
   "metadata": {},
   "outputs": [
    {
     "data": {
      "text/html": [
       "<div>\n",
       "<style scoped>\n",
       "    .dataframe tbody tr th:only-of-type {\n",
       "        vertical-align: middle;\n",
       "    }\n",
       "\n",
       "    .dataframe tbody tr th {\n",
       "        vertical-align: top;\n",
       "    }\n",
       "\n",
       "    .dataframe thead th {\n",
       "        text-align: right;\n",
       "    }\n",
       "</style>\n",
       "<table border=\"1\" class=\"dataframe\">\n",
       "  <thead>\n",
       "    <tr style=\"text-align: right;\">\n",
       "      <th></th>\n",
       "      <th>y</th>\n",
       "      <th>time</th>\n",
       "    </tr>\n",
       "  </thead>\n",
       "  <tbody>\n",
       "    <tr>\n",
       "      <th>0</th>\n",
       "      <td>0.015394</td>\n",
       "      <td>0.167717</td>\n",
       "    </tr>\n",
       "    <tr>\n",
       "      <th>1</th>\n",
       "      <td>0.024810</td>\n",
       "      <td>0.251575</td>\n",
       "    </tr>\n",
       "    <tr>\n",
       "      <th>2</th>\n",
       "      <td>0.029940</td>\n",
       "      <td>0.293505</td>\n",
       "    </tr>\n",
       "    <tr>\n",
       "      <th>3</th>\n",
       "      <td>0.032564</td>\n",
       "      <td>0.314469</td>\n",
       "    </tr>\n",
       "    <tr>\n",
       "      <th>4</th>\n",
       "      <td>0.038476</td>\n",
       "      <td>0.356399</td>\n",
       "    </tr>\n",
       "    <tr>\n",
       "      <th>...</th>\n",
       "      <td>...</td>\n",
       "      <td>...</td>\n",
       "    </tr>\n",
       "    <tr>\n",
       "      <th>346</th>\n",
       "      <td>3.417079</td>\n",
       "      <td>562.377600</td>\n",
       "    </tr>\n",
       "    <tr>\n",
       "      <th>347</th>\n",
       "      <td>3.426032</td>\n",
       "      <td>614.806400</td>\n",
       "    </tr>\n",
       "    <tr>\n",
       "      <th>348</th>\n",
       "      <td>3.441690</td>\n",
       "      <td>719.664000</td>\n",
       "    </tr>\n",
       "    <tr>\n",
       "      <th>349</th>\n",
       "      <td>3.455051</td>\n",
       "      <td>824.521600</td>\n",
       "    </tr>\n",
       "    <tr>\n",
       "      <th>350</th>\n",
       "      <td>3.475906</td>\n",
       "      <td>1022.000000</td>\n",
       "    </tr>\n",
       "  </tbody>\n",
       "</table>\n",
       "<p>351 rows × 2 columns</p>\n",
       "</div>"
      ],
      "text/plain": [
       "            y         time\n",
       "0    0.015394     0.167717\n",
       "1    0.024810     0.251575\n",
       "2    0.029940     0.293505\n",
       "3    0.032564     0.314469\n",
       "4    0.038476     0.356399\n",
       "..        ...          ...\n",
       "346  3.417079   562.377600\n",
       "347  3.426032   614.806400\n",
       "348  3.441690   719.664000\n",
       "349  3.455051   824.521600\n",
       "350  3.475906  1022.000000\n",
       "\n",
       "[351 rows x 2 columns]"
      ]
     },
     "execution_count": 21,
     "metadata": {},
     "output_type": "execute_result"
    }
   ],
   "source": [
    "df"
   ]
  },
  {
   "cell_type": "code",
   "execution_count": 42,
   "metadata": {},
   "outputs": [
    {
     "name": "stdout",
     "output_type": "stream",
     "text": [
      "\u001b[1;31mSignature:\u001b[0m\n",
      "\u001b[0mGEOPlot\u001b[0m\u001b[1;33m.\u001b[0m\u001b[0mget_figure\u001b[0m\u001b[1;33m(\u001b[0m\u001b[1;33m\n",
      "\u001b[0m    \u001b[0msize\u001b[0m\u001b[1;33m=\u001b[0m\u001b[1;34m'A4'\u001b[0m\u001b[1;33m,\u001b[0m\u001b[1;33m\n",
      "\u001b[0m    \u001b[0morientation\u001b[0m\u001b[1;33m=\u001b[0m\u001b[1;34m'v'\u001b[0m\u001b[1;33m,\u001b[0m\u001b[1;33m\n",
      "\u001b[0m    \u001b[0mtransparent\u001b[0m\u001b[1;33m=\u001b[0m\u001b[1;32mFalse\u001b[0m\u001b[1;33m,\u001b[0m\u001b[1;33m\n",
      "\u001b[0m    \u001b[0mcols\u001b[0m\u001b[1;33m=\u001b[0m\u001b[1;36m1\u001b[0m\u001b[1;33m,\u001b[0m\u001b[1;33m\n",
      "\u001b[0m    \u001b[0mrows\u001b[0m\u001b[1;33m=\u001b[0m\u001b[1;36m1\u001b[0m\u001b[1;33m,\u001b[0m\u001b[1;33m\n",
      "\u001b[0m    \u001b[0mlogo\u001b[0m\u001b[1;33m=\u001b[0m\u001b[1;32mTrue\u001b[0m\u001b[1;33m,\u001b[0m\u001b[1;33m\n",
      "\u001b[0m    \u001b[0mfooter\u001b[0m\u001b[1;33m=\u001b[0m\u001b[1;32mNone\u001b[0m\u001b[1;33m,\u001b[0m\u001b[1;33m\n",
      "\u001b[0m\u001b[1;33m)\u001b[0m\u001b[1;33m\u001b[0m\u001b[1;33m\u001b[0m\u001b[0m\n",
      "\u001b[1;31mDocstring:\u001b[0m <no docstring>\n",
      "\u001b[1;31mFile:\u001b[0m      c:\\users\\dell\\onedrive\\documents\\desktop\\unitcpt\\src\\geoplot.py\n",
      "\u001b[1;31mType:\u001b[0m      method"
     ]
    }
   ],
   "source": [
    "GEOPlot.get_figure?"
   ]
  },
  {
   "cell_type": "code",
   "execution_count": null,
   "metadata": {},
   "outputs": [],
   "source": []
  }
 ],
 "metadata": {
  "kernelspec": {
   "display_name": "Python 3 (ipykernel)",
   "language": "python",
   "name": "python3"
  },
  "language_info": {
   "codemirror_mode": {
    "name": "ipython",
    "version": 3
   },
   "file_extension": ".py",
   "mimetype": "text/x-python",
   "name": "python",
   "nbconvert_exporter": "python",
   "pygments_lexer": "ipython3",
   "version": "3.11.5"
  }
 },
 "nbformat": 4,
 "nbformat_minor": 4
}
