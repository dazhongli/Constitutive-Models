{
 "cells": [
  {
   "cell_type": "code",
   "execution_count": 1,
   "id": "164176ce-46c6-4e27-b848-05727acff6df",
   "metadata": {},
   "outputs": [],
   "source": [
    "#!pip install forallpeople"
   ]
  },
  {
   "cell_type": "code",
   "execution_count": 2,
   "id": "bfda0ee2",
   "metadata": {},
   "outputs": [],
   "source": [
    "#! pip install handcalcs\n",
    "#!pip install nbconvert"
   ]
  },
  {
   "cell_type": "code",
   "execution_count": 3,
   "id": "1bba2736-906f-4be5-907a-e2d44da94df9",
   "metadata": {},
   "outputs": [],
   "source": [
    "from handcalcs import render, handcalc\n",
    "import handcalcs\n",
    "import forallpeople\n",
    "forallpeople.environment('structural',top_level=True)\n",
    "from math import radians\n",
    "from math import sin, cos, degrees, radians, pi\n",
    "from numpy import log,log10\n",
    "@handcalc(jupyter_display = True, precision = 2)\n",
    "#short\n",
    "def calc_sqrt(gamma):\n",
    "    gamma_f = gamma/1.4\n",
    "    x = gamma_f * sin(degrees(2.4))"
   ]
  },
  {
   "cell_type": "code",
   "execution_count": 4,
   "id": "773d53bb-de0f-4d7c-a582-b61d776a9af6",
   "metadata": {},
   "outputs": [],
   "source": [
    "handcalcs.set_option(\"display_precision\", 2)\n",
    "handcalcs.set_option(\"param_columns\", 5) \n",
    "handcalcs.set_option(\"line_break\", \"\\\\\\\\[8pt]\") \n",
    "handcalcs.set_option(\"greek_exclusions\", [\"psi\"]) # e"
   ]
  },
  {
   "cell_type": "code",
   "execution_count": 5,
   "id": "7e0bf5bc-4941-4c94-a753-d29704cbe135",
   "metadata": {},
   "outputs": [
    {
     "data": {
      "text/latex": [
       "\\[\n",
       "\\begin{aligned}\n",
       "b &= 2 \\; \n",
       "\\end{aligned}\n",
       "\\]"
      ],
      "text/plain": [
       "<IPython.core.display.Latex object>"
      ]
     },
     "metadata": {},
     "output_type": "display_data"
    }
   ],
   "source": [
    "%%render sci_not 5\n",
    "# x = (1*m**2/yr)\n",
    "b =2 "
   ]
  },
  {
   "cell_type": "code",
   "execution_count": 18,
   "id": "dfde988c",
   "metadata": {},
   "outputs": [
    {
     "data": {
      "text/latex": [
       "\\[\n",
       "\\begin{aligned}\n",
       "C_{c} &= 1.20 \\times 10 ^ {0} \\; \n",
       "\\\\[8pt]\n",
       "e_{0} &= 2 \\; \n",
       "\\\\[8pt]\n",
       "h &= 1.50 \\times 10 ^ {0} \\; \n",
       "\\\\[8pt]\n",
       "c_{h} &= 1.00 \\times 10 ^ {0} \\; \n",
       "\\\\[8pt]\n",
       "\\gamma &= 6 \\; \n",
       "\\\\[8pt]\n",
       "\\gamma_{w} &= 10 \\; \n",
       "\\\\[8pt]\n",
       "E &= 2.3 \\cdot \\frac{ 1 + e_{0} }{ C_{c} } \\cdot \\left( \\gamma \\cdot h \\right)  = 2.3 \\cdot \\frac{ 1 + 2 }{ 1.20 \\times 10 ^ {0} } \\cdot \\left( 6 \\cdot 1.50 \\times 10 ^ {0} \\right) &= 5.18 \\times 10 ^ {1}  \n",
       "\\\\[8pt]\n",
       "k &= \\gamma_{w} \\cdot \\frac{ c_{h} }{ 365 } \\cdot \\frac{1} { E }  = 10 \\cdot \\frac{ 1.00 \\times 10 ^ {0} }{ 365 } \\cdot \\frac{1} { 5.18 \\times 10 ^ {1} } &= 5.29 \\times 10 ^ {-4}  \n",
       "\\end{aligned}\n",
       "\\]"
      ],
      "text/plain": [
       "<IPython.core.display.Latex object>"
      ]
     },
     "metadata": {},
     "output_type": "display_data"
    }
   ],
   "source": [
    "%%render sci_not\n",
    "C_c = 1.2\n",
    "e_0 = 2\n",
    "h = 1.5\n",
    "c_h = 1.0\n",
    "gamma=6\n",
    "gamma_w = 10\n",
    "\n",
    "E = 2.3*(1+e_0)/C_c *(gamma*h)\n",
    "k = gamma_w*c_h/365/E "
   ]
  },
  {
   "cell_type": "code",
   "execution_count": 4,
   "id": "136f162a-db71-414b-8582-718677875044",
   "metadata": {},
   "outputs": [
    {
     "data": {
      "text/latex": [
       "\\[\n",
       "\\begin{aligned}\n",
       "y &= 2 \\cdot m  = 2 \\cdot m &= 2.000\\ \\mathrm{m}  \n",
       "\\end{aligned}\n",
       "\\]"
      ],
      "text/plain": [
       "<IPython.core.display.Latex object>"
      ]
     },
     "metadata": {},
     "output_type": "display_data"
    }
   ],
   "source": [
    "%%render\n",
    "y = 2*m"
   ]
  },
  {
   "cell_type": "markdown",
   "id": "6130086c-9ca0-4e1c-939c-a0528efabbb9",
   "metadata": {},
   "source": [
    "# Settlement Analysis \n",
    "\n",
    "Consider the following typical design parameters for a PVD improved the MD, \n",
    "\n",
    "$c$"
   ]
  },
  {
   "cell_type": "markdown",
   "id": "9e4aecb1-829d-4e9b-a366-cfc520676923",
   "metadata": {},
   "source": [
    "Suppose that we have a 4m thick MD, and only apply 20kPa on top of it, what is the expected total total settlement?"
   ]
  },
  {
   "cell_type": "code",
   "execution_count": 5,
   "id": "d5741c6f",
   "metadata": {},
   "outputs": [
    {
     "data": {
      "text/latex": [
       "\\[\n",
       "\\begin{aligned}\n",
       "H &= 4 \\; \n",
       "\\\\[8pt]\n",
       "\\sigma_{v} &= \\frac{ 1 }{ 2 } \\cdot H \\cdot 6  = \\frac{ 1 }{ 2 } \\cdot 4 \\cdot 6 &= 12.000  \n",
       "\\\\[8pt]\n",
       "q &= 20 \\; \n",
       "\\\\[8pt]\n",
       "C_{c} &= 1.202 \\; \n",
       "\\\\[8pt]\n",
       "e_{0} &= 2.000 \\; \n",
       "\\\\[8pt]\n",
       "S_{0} &= \\frac{ C_{c} }{ 1 + e_{0} } \\cdot H \\cdot \\log_{10} \\left( \\frac{ \\sigma_{v} + q }{ \\sigma_{v} } \\right)  = \\frac{ 1.202 }{ 1 + 2.000 } \\cdot 4 \\cdot \\log_{10} \\left( \\frac{ 12.000 + 20 }{ 12.000 } \\right) &= 0.683  \n",
       "\\end{aligned}\n",
       "\\]"
      ],
      "text/plain": [
       "<IPython.core.display.Latex object>"
      ]
     },
     "metadata": {},
     "output_type": "display_data"
    }
   ],
   "source": [
    "%%render\n",
    "H = (4)\n",
    "sigma_v = 1/2*H *6\n",
    "q = 20\n",
    "C_c = 1.202\n",
    "e_0 = 2.0\n",
    "S_0 = C_c/(1+e_0)*H*(log10((sigma_v+q)/sigma_v))"
   ]
  },
  {
   "cell_type": "code",
   "execution_count": 19,
   "id": "3742aa4c",
   "metadata": {},
   "outputs": [],
   "source": [
    "from math import log10"
   ]
  },
  {
   "cell_type": "code",
   "execution_count": 32,
   "id": "57f50bea",
   "metadata": {},
   "outputs": [
    {
     "name": "stdout",
     "output_type": "stream",
     "text": [
      "\\[\n",
      "\\begin{aligned}\n",
      "H &= 10 \\; \n",
      "\\\\[8pt]\n",
      "C_{c} &= 1.20 \\; \n",
      "\\\\[8pt]\n",
      "e_{0} &= 2.00 \\; \n",
      "\\\\[8pt]\n",
      "\\gamma &= 6.00 \\; \n",
      "\\\\[8pt]\n",
      "q &= 20 \\; \n",
      "\\\\[8pt]\n",
      "S_{3} &= \\frac{ C_{c} }{ 1 + e_{0} } \\cdot \\left( H \\cdot \\log_{10} \\left( \\frac{ q + \\gamma \\cdot H }{ \\gamma \\cdot H } \\right) - \\frac{ q }{ \\gamma } \\cdot \\log_{10} \\left( q \\right) + \\frac{ q }{ \\gamma } \\cdot \\log_{10} \\left( q + \\gamma \\cdot H \\right) \\right) \\\\&= \\frac{ 1.20 }{ 1 + 2.00 } \\cdot \\left( 10 \\cdot \\log_{10} \\left( \\frac{ 20 + 6.00 \\cdot 10 }{ 6.00 \\cdot 10 } \\right) - \\frac{ 20 }{ 6.00 } \\cdot \\log_{10} \\left( 20 \\right) + \\frac{ 20 }{ 6.00 } \\cdot \\log_{10} \\left( 20 + 6.00 \\cdot 10 \\right) \\right) \\\\&= 1.30  \\\\[8pt]\n",
      "\\end{aligned}\n",
      "\\]\n"
     ]
    }
   ],
   "source": [
    "%%tex long\n",
    "H=(10)\n",
    "C_c  =(1.2)\n",
    "e_0 = (2.0)\n",
    "gamma = (6.0)\n",
    "q = (20)\n",
    "S_3 = C_c/(1+e_0)*(H*log10((q+gamma*H)/(gamma*H)) - q/gamma*log10(q) + q/gamma*log10(q+gamma*H))"
   ]
  },
  {
   "cell_type": "code",
   "execution_count": 6,
   "id": "dcb9fad8",
   "metadata": {},
   "outputs": [
    {
     "data": {
      "text/latex": [
       "\\[\n",
       "\\begin{aligned}\n",
       "\\gamma &= 6 \\; \n",
       "\\\\[8pt]\n",
       "\\sigma_{v_{max}} &= H \\cdot \\gamma  = 4 \\cdot 6 &= 24  \n",
       "\\\\[8pt]\n",
       "\\sigma_{v_{01}} &= \\frac{ 1 }{ 4 } \\cdot H \\cdot \\gamma  = \\frac{ 1 }{ 4 } \\cdot 4 \\cdot 6 &= 6.000  \n",
       "\\\\[8pt]\n",
       "\\sigma_{v_{02}} &= \\frac{ 3 }{ 4 } \\cdot H \\cdot \\gamma  = \\frac{ 3 }{ 4 } \\cdot 4 \\cdot 6 &= 18.000  \n",
       "\\\\[8pt]\n",
       "S_{0} &= \\frac{ C_{c} }{ 1 + e_{0} } \\cdot \\frac{ H }{ 2 } \\cdot \\log_{10} \\left( \\frac{ \\sigma_{v_{01}} + q }{ \\sigma_{v_{01}} } \\right) \\\\&= \\frac{ 1.202 }{ 1 + 2.000 } \\cdot \\frac{ 4 }{ 2 } \\cdot \\log_{10} \\left( \\frac{ 6.000 + 20 }{ 6.000 } \\right) \\\\&= 0.510  \\\\[8pt]\n",
       "\\\\[8pt]\n",
       "S_{1} &= \\frac{ C_{c} }{ 1 + e_{0} } \\cdot \\frac{ H }{ 2 } \\cdot \\log_{10} \\left( \\frac{ \\sigma_{v_{02}} + q }{ \\sigma_{v_{02}} } \\right) \\\\&= \\frac{ 1.202 }{ 1 + 2.000 } \\cdot \\frac{ 4 }{ 2 } \\cdot \\log_{10} \\left( \\frac{ 18.000 + 20 }{ 18.000 } \\right) \\\\&= 0.260  \\\\[8pt]\n",
       "\\\\[8pt]\n",
       "S &= S_{0} + S_{1}  = 0.510 + 0.260 &= 0.770  \n",
       "\\\\[8pt]\n",
       "\\sigma_{b} &= \\gamma \\cdot H  = 6 \\cdot 4 &= 24  \n",
       "\\\\[8pt]\n",
       "S_{3} &= \\frac{ C_{c} }{ 2.3 \\cdot \\left( 1 + e_{0} \\right) } \\cdot \\left( H \\cdot \\ln \\left( \\frac{ q + \\sigma_{b} }{ \\sigma_{b} } \\right) - \\frac{ q }{ \\gamma } \\cdot \\ln \\left( q \\right) + \\frac{ q }{ \\gamma } \\cdot \\ln \\left( q + \\sigma_{b} \\right) \\right) \\\\&= \\frac{ 1.202 }{ 2.3 \\cdot \\left( 1 + 2.000 \\right) } \\cdot \\left( 4 \\cdot \\ln \\left( \\frac{ 20 + 24 }{ 24 } \\right) - \\frac{ 20 }{ 6 } \\cdot \\ln \\left( 20 \\right) + \\frac{ 20 }{ 6 } \\cdot \\ln \\left( 20 + 24 \\right) \\right) \\\\&= 0.880  \\\\[8pt]\n",
       "\\end{aligned}\n",
       "\\]"
      ],
      "text/plain": [
       "<IPython.core.display.Latex object>"
      ]
     },
     "metadata": {},
     "output_type": "display_data"
    }
   ],
   "source": [
    "%%render\n",
    "gamma = 6\n",
    "sigma_v_max = H*gamma\n",
    "sigma_v_01 = 1/4*H*gamma\n",
    "sigma_v_02 = 3/4*H*gamma\n",
    "S_0 = C_c/(1+e_0)*H/2*(log10((sigma_v_01+q)/sigma_v_01))\n",
    "S_1 = C_c/(1+e_0)*H/2*(log10((sigma_v_02+q)/sigma_v_02))\n",
    "S = S_0 + S_1\n",
    "sigma_b = gamma*H\n",
    "S_3 = C_c/(2.3*(1+e_0))*(H*log((q+sigma_b)/sigma_b) - q/gamma*log(q) + q/gamma*log(q+sigma_b))"
   ]
  },
  {
   "cell_type": "markdown",
   "id": "43942284",
   "metadata": {},
   "source": [
    "We will assume that the initial void ratio $e_0$ does not vary along the depth, i.e., $e_0$ being independent of the depth $z$\n",
    "\\begin{equation}\n",
    "S(H_0) = \\frac{C_c}{2.3\\cdot(1+e_0)}\\cdot \\int_0^{H_0} \\ln\\bigg(\\frac{\\gamma'\\cdot z + \\Delta\\sigma}{\\gamma'\\cdot z}\\bigg)dz\n",
    "\\end{equation}\n",
    "\n",
    "where\n",
    "\n",
    "- $\\sigma_b$ = the effective stress at the base of the layer\n",
    "\n",
    "If assuming the normally consolidated clay, i.e., OCR =1.0, the closed-form expression for the ultimate consolidation settlement can be expressed as below\n",
    "\\begin{equation}\n",
    "S(H_0)= \\frac{C_c}{1+e_0} \\bigg[H_0 \\cdot \\log\\bigg(\\frac{\\Delta\\sigma+\\sigma_b}{\\sigma_b}\\bigg) - \\frac{\\Delta\\sigma}{\\gamma'}\\log(\\Delta\\sigma) + \\frac{\\Delta\\sigma}{\\gamma'}\\log(\\Delta\\sigma+\\sigma_b)\\bigg]\n",
    "\\end{equation}\n",
    "\n",
    "In the following, will show the calculated difference of settlement using two approaches:\n",
    "\n",
    "- $S(t) = S_\\infty \\cdot U(t)$\n",
    "- $S(t) = S(\\Delta \\sigma \\cdot U(t))$\n",
    "\n",
    "Consider reclamation of PVD, with spacing of 1.2m and MD thickness of 10m and surcharge of 300kPa, i.e., $\\Delta \\sigma = 300kPa$. For the simplicity of discussion, we consider only the horizontal drain. \n",
    "\n",
    "$c_h = 1.0m^2/s$"
   ]
  },
  {
   "cell_type": "code",
   "execution_count": 15,
   "id": "101be347",
   "metadata": {},
   "outputs": [
    {
     "data": {
      "text/latex": [
       "\\[\n",
       "\\begin{aligned}\n",
       "a &= 4.000\\ \\mathrm{mm} \\; \\;\\textrm{(PVD Width)}\n",
       "\\\\[10pt]\n",
       "b &= 100.000\\ \\mathrm{mm} \\; \\;\\textrm{(PVD Length)}\n",
       "\\\\[10pt]\n",
       "d &= \\frac{ 2 \\cdot \\left( a + b \\right) }{ \\pi }  = \\frac{ 2 \\cdot \\left( 4.000\\ \\mathrm{mm} + 100.000\\ \\mathrm{mm} \\right) }{ 3.142 } &= 66.208\\ \\mathrm{mm}  \n",
       "\\\\[10pt]\n",
       "s &= 1.000\\ \\mathrm{m} \\; \n",
       "\\\\[10pt]\n",
       "D_{e} &= s \\cdot 1.13  = 1.000\\ \\mathrm{m} \\cdot 1.13 &= 1.130\\ \\mathrm{m} \\; \\;\\textrm{(equivalent diameter)}\n",
       "\\\\[10pt]\n",
       "r_{e} &= \\frac{ D_{e} }{ 2 }  = \\frac{ 1.130\\ \\mathrm{m} }{ 2 } &= 565.000\\ \\mathrm{mm}  \n",
       "\\\\[10pt]\n",
       "n &= \\frac{ D_{e} }{ d }  = \\frac{ 1.130\\ \\mathrm{m} }{ 66.208\\ \\mathrm{mm} } &= 17.067  \n",
       "\\\\[10pt]\n",
       "F_{n} &= \\frac{ \\left( n \\right) ^{ 2 } }{ \\left( n \\right) ^{ 2 } - 1 } \\cdot \\ln \\left( n - \\frac{ 3 \\cdot \\left( n \\right) ^{ 2 } - 1 }{ 4 \\cdot \\left( n \\right) ^{ 2 } } \\right) \\\\&= \\frac{ \\left( 17.067 \\right) ^{ 2 } }{ \\left( 17.067 \\right) ^{ 2 } - 1 } \\cdot \\ln \\left( 17.067 - \\frac{ 3 \\cdot \\left( 17.067 \\right) ^{ 2 } - 1 }{ 4 \\cdot \\left( 17.067 \\right) ^{ 2 } } \\right) \\\\&= 2.802  \\\\[10pt]\n",
       "\\\\[10pt]\n",
       "C_{v} &= 1.200 \\; \n",
       "\\\\[10pt]\n",
       "C_{c} &= 1.000 \\; \n",
       "\\\\[10pt]\n",
       "e_{0} &= 2.000 \\; \n",
       "\\\\[10pt]\n",
       "\\mathrm{OCR} &= 1.200 \\; \n",
       "\\end{aligned}\n",
       "\\]"
      ],
      "text/plain": [
       "<IPython.core.display.Latex object>"
      ]
     },
     "metadata": {},
     "output_type": "display_data"
    }
   ],
   "source": [
    "%%render\n",
    "a = (4*mm) # PVD Width\n",
    "b = (100*mm) # PVD Length\n",
    "d = (2*(a+b))/pi\n",
    "s = (1*m)\n",
    "D_e = s*1.13 # equivalent diameter\n",
    "r_e = D_e/2 \n",
    "n = D_e/d\n",
    "F_n = n**2/(n**2-1)*log(n-(3*n**2-1)/(4*n**2))\n",
    "C_v = 1.2\n",
    "C_c = 1.0\n",
    "e_0 = 2.0\n",
    "OCR = 1.2"
   ]
  },
  {
   "cell_type": "code",
   "execution_count": 16,
   "id": "ef46fbf6",
   "metadata": {},
   "outputs": [],
   "source": [
    "from math import exp"
   ]
  },
  {
   "cell_type": "code",
   "execution_count": 14,
   "id": "4ea559c3",
   "metadata": {},
   "outputs": [
    {
     "ename": "NameError",
     "evalue": "name 'F_n' is not defined",
     "output_type": "error",
     "traceback": [
      "\u001b[1;31m---------------------------------------------------------------------------\u001b[0m",
      "\u001b[1;31mNameError\u001b[0m                                 Traceback (most recent call last)",
      "Cell \u001b[1;32mIn[14], line 5\u001b[0m\n\u001b[0;32m      3\u001b[0m D_e \u001b[38;5;241m=\u001b[39m \u001b[38;5;241m1.130\u001b[39m\n\u001b[0;32m      4\u001b[0m T_h \u001b[38;5;241m=\u001b[39m c_h\u001b[38;5;241m*\u001b[39mt\u001b[38;5;241m/\u001b[39mD_e\u001b[38;5;241m*\u001b[39m\u001b[38;5;241m*\u001b[39m\u001b[38;5;241m2\u001b[39m\n\u001b[1;32m----> 5\u001b[0m U_h \u001b[38;5;241m=\u001b[39m \u001b[38;5;241m1\u001b[39m\u001b[38;5;241m-\u001b[39m exp((\u001b[38;5;241m-\u001b[39m\u001b[38;5;241m8\u001b[39m\u001b[38;5;241m*\u001b[39mT_h\u001b[38;5;241m/\u001b[39mF_n))\n\u001b[0;32m      6\u001b[0m \u001b[38;5;28mprint\u001b[39m(U_h)\n",
      "\u001b[1;31mNameError\u001b[0m: name 'F_n' is not defined"
     ]
    }
   ],
   "source": [
    "%%render \n",
    "t = 1/12 #year\n",
    "c_h =2.6\n",
    "D_e = 1.130\n",
    "T_h = c_h*t/D_e**2\n",
    "U_h = 1- exp((-8*T_h/F_n))\n",
    "print(U_h)"
   ]
  },
  {
   "cell_type": "markdown",
   "id": "89e74f5f-1439-4b0e-8da4-4c6fa0feba55",
   "metadata": {},
   "source": [
    "## Parameters used in Plaxis \n",
    "The following parameters are used for both `Soft Soil model` as well as the `Soft Soil Creep Model`. These set of parameters were adopted in Feng's work for comparing the `Simplified Hypothesis B` and should be representative for Hong Kong marine clay. \n",
    "||||\n",
    "|--|--:|--|\n",
    "|Parameter|Value|-|\n",
    "|$\\kappa^*$|0.0217|-|\n",
    "|$\\lambda^*$|0.1740|-|\n",
    "|$\\mu^*$|0.076|-|\n",
    "|$\\nu_{ur}$|0.15|-|\n",
    "|$e_0$|2.0|-|\n",
    "|$k_x$|$3.456\\times 10^{-4}$|m/day|\n",
    "\n",
    "Note that the $\\lambda^*$ is defined as \n",
    "$$\n",
    "\\lambda^* = \\frac{\\lambda}{1+e_0}\n",
    "$$\n",
    "\n",
    "We will work out the equivalent from these set of parameters. The ra\n",
    "\n",
    "\\begin{equation}\n",
    "E_s = \\frac{\\sigma_v'}{\\lambda^*}\n",
    "\\end{equation}\n",
    "\n",
    "\\begin{equation}\n",
    "c_h = \\frac{E_s\\cdot k_h}{\\gamma_w*}\n",
    "\\end{equation}"
   ]
  },
  {
   "cell_type": "markdown",
   "id": "20ac5426",
   "metadata": {},
   "source": [
    "## Modified Cam Clay Model\n",
    "\n",
    "The practical use of the modified `Camclay model` is not recommanded\n",
    "\n",
    "\n",
    "||||\n",
    "|--|--:|--|\n",
    "|Parameter|Value|-|\n",
    "|$\\kappa$|0.0651|-|\n",
    "|$\\lambda$|0.552|-|\n",
    "|$\\mu^*$|0.076|-|\n",
    "|$e_0$|2.0|-|\n",
    "|$k_x$|$3.456\\times 10^{-4}$|m/day|"
   ]
  },
  {
   "cell_type": "code",
   "execution_count": 5,
   "id": "74a44c5c-791d-4a70-8304-5dba6316a073",
   "metadata": {},
   "outputs": [
    {
     "data": {
      "text/latex": [
       "\\[\n",
       "\\begin{aligned}\n",
       "\\gamma_{soil} &= 6.000\\ \\mathrm{kN/m³} \\; \n",
       "\\\\[10pt]\n",
       "H &= 4.000\\ \\mathrm{m} \\; \n",
       "\\\\[10pt]\n",
       "\\sigma'_{v_{bottom}} &= 24.000\\ \\mathrm{kPa} \\; \n",
       "\\\\[10pt]\n",
       "\\mathrm{lambda'} &= 0.174 \\; \n",
       "\\\\[10pt]\n",
       "\\gamma_{w} &= 10.000\\ \\mathrm{kN/m³} \\; \n",
       "\\\\[10pt]\n",
       "E_{s} &= \\frac{ \\sigma'_{v_{bottom}} }{ \\mathrm{lambda'} }  = \\frac{ 24.000\\ \\mathrm{kPa} }{ 0.174 } &= 137.931\\ \\mathrm{kPa}  \n",
       "\\\\[10pt]\n",
       "k_{x} &= 0.000 \\; \\;\\textrm{((m/day))}\n",
       "\\\\[10pt]\n",
       "E_{s_{middle}} &= \\frac{ \\frac{ H }{ 2 } \\cdot \\gamma_{soil} }{ \\mathrm{lambda'} }  = \\frac{ \\frac{ 4.000\\ \\mathrm{m} }{ 2 } \\cdot 6.000\\ \\mathrm{kN/m³} }{ 0.174 } &= 68.966\\ \\mathrm{kPa}  \n",
       "\\\\[10pt]\n",
       "c_{h_{bottom}} &= \\frac{ E_{s} }{ \\gamma_{w} } \\cdot k_{x} \\cdot 365  = \\frac{ 137.931\\ \\mathrm{kPa} }{ 10.000\\ \\mathrm{kN/m³} } \\cdot 0.000 \\cdot 365 &= 1.740\\ \\mathrm{m}  \n",
       "\\\\[10pt]\n",
       "c_{h_{mid}} &= \\frac{ E_{s_{middle}} }{ \\gamma_{w} } \\cdot k_{x} \\cdot 365  = \\frac{ 68.966\\ \\mathrm{kPa} }{ 10.000\\ \\mathrm{kN/m³} } \\cdot 0.000 \\cdot 365 &= 869.959\\ \\mathrm{mm}  \n",
       "\\end{aligned}\n",
       "\\]"
      ],
      "text/plain": [
       "<IPython.core.display.Latex object>"
      ]
     },
     "metadata": {},
     "output_type": "display_data"
    }
   ],
   "source": [
    "%%render \n",
    "gamma_soil = (6*kN/m**3)\n",
    "H = (4*m)\n",
    "sigma_prime_v_bottom = (gamma_soil*H)\n",
    "lambda_prime=0.174\n",
    "gamma_w = (10*kN/m**3)\n",
    "E_s = sigma_prime_v_bottom/lambda_prime\n",
    "k_x = 3.456e-4 #(m/day)\n",
    "E_s_middle= (H/2*gamma_soil)/lambda_prime\n",
    "c_h_bottom = E_s/gamma_w*k_x*365\n",
    "c_h_mid = E_s_middle/gamma_w*k_x*365"
   ]
  },
  {
   "cell_type": "code",
   "execution_count": 10,
   "id": "c99806c5",
   "metadata": {},
   "outputs": [],
   "source": [
    "import numpy as np\n",
    "from math import exp\n",
    "def consolidation_settlement(H, delta_sigma,gamma, Cc, e0):\n",
    "    '''\n",
    "    H - Thickness of clay\n",
    "    delta_sigma - added loading at the top of the clay\n",
    "    cc - compression index in log10 \n",
    "    e0 - initial void ratio\n",
    "    gamma - effective unit weight of the MD\n",
    "    '''\n",
    "    sigma_b = H*gamma\n",
    "    return Cc/(1+e0)*(H*log10((delta_sigma+sigma_b)/sigma_b)- delta_sigma/gamma*log10(delta_sigma) + delta_sigma/gamma*log10(delta_sigma+sigma_b))\n",
    "\n",
    "# @handcalc(jupyter_display = True, precision = 2)\n",
    "@np.vectorize\n",
    "def DoC_Barren_avg(c_h, t, d, D_e):\n",
    "    '''\n",
    "    Return the average degree of consolidation\n",
    "    c_h: ratial coefficient of consolidation\n",
    "    t: time \n",
    "    d: equivalent diameter of the PVD\n",
    "    D_e: equivalent diameter of the tributary area\n",
    "    \n",
    "    '''\n",
    "    T_h = c_h*t/D_e**2\n",
    "    n = D_e/d\n",
    "    F_n = n**2/(n**2-1)*log(n-(3*n**2-1)/(4*n**2))\n",
    "    U_h = 1-exp(-8*T_h/F_n)\n",
    "    return U_h"
   ]
  },
  {
   "cell_type": "code",
   "execution_count": 21,
   "id": "b78eba61",
   "metadata": {},
   "outputs": [
    {
     "data": {
      "text/plain": [
       "0.8792127865190537"
      ]
     },
     "execution_count": 21,
     "metadata": {},
     "output_type": "execute_result"
    }
   ],
   "source": [
    "consolidation_settlement(H=4, delta_sigma=20,gamma =6, Cc=1.202, e0=2)"
   ]
  },
  {
   "cell_type": "code",
   "execution_count": 20,
   "id": "50a812c3",
   "metadata": {},
   "outputs": [
    {
     "data": {
      "text/plain": [
       "array(0.67735526)"
      ]
     },
     "execution_count": 20,
     "metadata": {},
     "output_type": "execute_result"
    }
   ],
   "source": [
    "DoC_Barren_avg(2.6,100/365,0.064,1.3)"
   ]
  },
  {
   "cell_type": "code",
   "execution_count": null,
   "id": "566adc25",
   "metadata": {},
   "outputs": [],
   "source": [
    "consolidation_settlement(4,20,6,1.2,2.0)"
   ]
  },
  {
   "cell_type": "code",
   "execution_count": null,
   "id": "5b52e499",
   "metadata": {},
   "outputs": [],
   "source": [
    "DoC_Barren_avg(c_h=2.6,t=0.6,d=66.2/1000,D_e=1.2*1.13)"
   ]
  },
  {
   "cell_type": "code",
   "execution_count": null,
   "id": "3e26769b",
   "metadata": {},
   "outputs": [],
   "source": [
    "from src.geoplot import GEOPlot\n",
    "import numpy as np\n",
    "import plotly.graph_objects as go\n",
    "delta_sigma=300\n",
    "H = 4.0\n",
    "t = np.linspace(0,2,1000)\n",
    "DoC = DoC_Barren_avg(c_h=2.6,t=t,d=66.2/1000,D_e=1.2*1.13)\n",
    "S_0 = consolidation_settlement(H, delta_sigma,6, 1.0, 2.0)\n",
    "S_t2 = consolidation_settlement(H,delta_sigma*DoC,6,1.0,2.0)\n",
    "S_t1 = S_0*DoC\n"
   ]
  },
  {
   "cell_type": "code",
   "execution_count": null,
   "id": "6cf1dd2a",
   "metadata": {},
   "outputs": [],
   "source": [
    "#! pip install -U kaleido"
   ]
  },
  {
   "cell_type": "code",
   "execution_count": null,
   "id": "8ef00b2a",
   "metadata": {},
   "outputs": [],
   "source": [
    "from src.geoplot import GEOPlot\n",
    "import numpy as np\n",
    "import plotly.graph_objects as go\n",
    "delta_sigma=300\n",
    "H = 4.0\n",
    "t = np.linspace(0,2,1000)\n",
    "C_c = 2.0\n",
    "DoC = DoC_Barren_avg(c_h=2.6,t=t,d=66.2/1000,D_e=1.2*1.13)\n",
    "S_0 = consolidation_settlement(H, delta_sigma,6, C_c, 2.0)\n",
    "S_t2 = consolidation_settlement(H,delta_sigma*DoC,6,C_c,2.0)\n",
    "S_t1 = S_0*DoC\n",
    "# Plot Against DOC\n",
    "fig = GEOPlot.get_figure()\n",
    "fig.add_trace(go.Scatter(x=DoC, y=S_t1/S_0,line= dict(color='black'),name='S(t)=S0 x U(t)'))\n",
    "fig.add_trace(go.Scatter(x=DoC, y=S_t2/S_0,line=dict(dash='dash',color='black'),name='S(t)=S(s x U(t))'))\n",
    "fig.update_layout(width=800,height=400)\n",
    "fig.update_xaxes(title ='Degree of Consolidation')\n",
    "fig.update_yaxes(range=[1,0],title ='Settlement (% of the Max. Settlement)')\n",
    "fig.write_image('./image/settlement.png')\n",
    "\n",
    "fig = GEOPlot.get_figure()\n",
    "fig.add_trace(go.Scatter(x=t, y=S_t1/S_0,line= dict(color='black'),name='S(t)=S0 x U(t)'))\n",
    "fig.add_trace(go.Scatter(x=t, y=S_t2/S_0,line=dict(dash='dash',color='black'),name='S(t)=S(s x U(t))'))\n",
    "fig.update_layout(width=800,height=400)\n",
    "fig.update_xaxes(title ='Time of Consolidation t in years')\n",
    "fig.update_yaxes(range=[1,0],title ='Settlement (% of the Max. Settlement)')\n",
    "fig.write_image('./image/settlement_t.png')"
   ]
  },
  {
   "cell_type": "code",
   "execution_count": null,
   "id": "35b8e3b8",
   "metadata": {},
   "outputs": [],
   "source": []
  },
  {
   "cell_type": "code",
   "execution_count": null,
   "id": "dd62a761",
   "metadata": {},
   "outputs": [],
   "source": []
  },
  {
   "cell_type": "code",
   "execution_count": null,
   "id": "5950a3e1",
   "metadata": {},
   "outputs": [],
   "source": [
    "import sympy as sp\n",
    "fig = GEOPlot.get_figure()\n",
    "fig.add_trace(go.Scatter(x=DoC, y=S_t1/S_0,line= dict(color='black'),name='S(t)=S0 x U(t)'))\n",
    "fig.add_trace(go.Scatter(x=DoC, y=S_t2/S_0,line=dict(dash='dash',color='black'),name='S(t)=S(s x U(t))'))\n",
    "fig.update_layout(width=800,height=400)\n",
    "fig.update_xaxes(title ='Degree of Consolidation')\n",
    "fig.update_yaxes(range=[1,0],title ='Settlement (% of the Max. Settlement)')\n",
    "fig.write_image('./image/settlement.png')\n",
    "from sympy import log\n",
    "\n",
    "c1, sigma, sigma_v_max, delta_sigma_v, gamma, z,x,a,H_0= sp.symbols('c_1 sigma sigma_v\\max \\Delta\\sigma_v,gamma, z,x, a,H_0')\n",
    "exp = log((gamma*x + delta_sigma_v)/(gamma*x))\n",
    "integral_result = sp.integrate(exp, (x, 0, H_0))"
   ]
  },
  {
   "cell_type": "code",
   "execution_count": null,
   "id": "9fbb858b",
   "metadata": {},
   "outputs": [],
   "source": [
    "sp.integrate(exp, (x, 0, H_0))"
   ]
  },
  {
   "cell_type": "code",
   "execution_count": null,
   "id": "74fe399b",
   "metadata": {},
   "outputs": [],
   "source": [
    "integral_result"
   ]
  },
  {
   "cell_type": "code",
   "execution_count": null,
   "id": "c3c9323c",
   "metadata": {},
   "outputs": [],
   "source": [
    "print(sp.latex(integral_result))"
   ]
  },
  {
   "cell_type": "code",
   "execution_count": null,
   "id": "7da1d363",
   "metadata": {},
   "outputs": [],
   "source": [
    "c1, sigma,sigma_v, delta_sigma_v = sp.symbols('c_1, sigma,sigma_v, \\Delta\\sigma_v')\n",
    "exp = log(1+delta_sigma_v/sigma)\n",
    "S_0 = C_c/(1+e_0)*H*(log10(sigma_v_01+q)/log10(sigma_v_01))"
   ]
  },
  {
   "cell_type": "code",
   "execution_count": null,
   "id": "15e9fc22",
   "metadata": {},
   "outputs": [],
   "source": [
    "exp = log(1+delta_sigma_v/sigma)\n",
    "S_0 = C_c/(1+e_0)*H*(log10(sigma_v_01+q)/log10(sigma_v_01))"
   ]
  },
  {
   "cell_type": "markdown",
   "id": "9a13fa3b",
   "metadata": {},
   "source": [
    "## More Rigorous Calculation of the Consolidation Settlement \n",
    "\n",
    "This will include to calculate degree of consolidation at a certain depth\n",
    "\n",
    "For `Hypothesis A`, the starting of creep settlement is defined at the end of primary consolidation, i.e., $t_p$"
   ]
  },
  {
   "cell_type": "code",
   "execution_count": null,
   "id": "bf15fbfc",
   "metadata": {},
   "outputs": [],
   "source": [
    "%%render \n",
    "\n",
    "C_alpha = 0.004\n",
    "t_p = 10\n",
    "t_1 = 1\n",
    "t_surcharge = 24\n",
    "H = 10\n",
    "T = 1000\n",
    "\n",
    "S_creep_1 = C_alpha*H*((T-t_p)/(t_surcharge-t_p))\n",
    "S_creep_2 = C_alpha*H*((T-t_1)/(t_surcharge-t_1))"
   ]
  },
  {
   "cell_type": "code",
   "execution_count": null,
   "id": "41541aa5-ac91-4449-af09-a129e1de588a",
   "metadata": {},
   "outputs": [],
   "source": []
  },
  {
   "cell_type": "markdown",
   "id": "89c5a1ee",
   "metadata": {},
   "source": []
  }
 ],
 "metadata": {
  "kernelspec": {
   "display_name": "Python 3 (ipykernel)",
   "language": "python",
   "name": "python3"
  },
  "language_info": {
   "codemirror_mode": {
    "name": "ipython",
    "version": 3
   },
   "file_extension": ".py",
   "mimetype": "text/x-python",
   "name": "python",
   "nbconvert_exporter": "python",
   "pygments_lexer": "ipython3",
   "version": "3.11.7"
  }
 },
 "nbformat": 4,
 "nbformat_minor": 5
}
